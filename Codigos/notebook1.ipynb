{
 "cells": [
  {
   "cell_type": "code",
   "execution_count": 5,
   "id": "b86bd021",
   "metadata": {},
   "outputs": [],
   "source": [
    "import pandas as pd\n",
    "import os\n",
    "import glob\n",
    "import random\n",
    "import cv2\n",
    "import numpy as np\n",
    "\n",
    "def create_labels_TB(df, n, seed=None):\n",
    "    for idx, row in df.loc[df['type'] == 'TB'].iterrows():\n",
    "        folder = os.path.join('Experiments', str(row.uuid))\n",
    "        files = glob.glob(os.path.join(folder, '*.dcm'))\n",
    "        id = list(map(lambda x: int(os.path.basename(x).split('.')[0]), files))\n",
    "        if seed is not None:\n",
    "            random.seed(seed)\n",
    "        df.loc[idx, 'slice'] = random.randint(n, max(id)-n)\n",
    "\n",
    "def add_labels(df, n):\n",
    "    temp = df.copy()\n",
    "    for i in range(n):\n",
    "        temp1 = df.copy()\n",
    "        temp2 = df.copy()\n",
    "        temp1['slice'] = temp1['slice']-(1+i)\n",
    "        temp2['slice'] = temp2['slice']+(1+i)\n",
    "        temp = pd.concat([temp, temp1, temp2], ignore_index=True)\n",
    "    return temp\n",
    "\n",
    "def expandir_tb_con_vecinos(df, n_vecinos=1):\n",
    "    df_result = df.copy()\n",
    "    tb = df[df['type'] == 'TB'].copy()\n",
    "    nuevos = []\n",
    "\n",
    "    for i in range(1, n_vecinos + 1):\n",
    "        temp1 = tb.copy()\n",
    "        temp2 = tb.copy()\n",
    "        temp1['slice'] -= i\n",
    "        temp2['slice'] += i\n",
    "        nuevos.append(temp1)\n",
    "        nuevos.append(temp2)\n",
    "\n",
    "    df_result = pd.concat([df_result] + nuevos, ignore_index=True)\n",
    "    return df_result\n"
   ]
  },
  {
   "cell_type": "code",
   "execution_count": 6,
   "id": "99e0ed86",
   "metadata": {},
   "outputs": [
    {
     "name": "stdout",
     "output_type": "stream",
     "text": [
      "Antes de asignar slices TB:\n",
      "     type  uuid  slice  x  y  tag\n",
      "113   TB  1531      0  0  0    0\n",
      "114   TB  1563      0  0  0    0\n",
      "115   TB  1610      0  0  0    0\n",
      "116   TB  1610      0  0  0    0\n",
      "117   TB  1632      0  0  0    0\n",
      "Después de asignar slices TB:\n",
      "     type  uuid  slice  x  y  tag\n",
      "113   TB  1531     88  0  0    0\n",
      "114   TB  1563    334  0  0    0\n",
      "115   TB  1610     88  0  0    0\n",
      "116   TB  1610     88  0  0    0\n",
      "117   TB  1632    170  0  0    0\n",
      "Tamaño original: (164, 6)\n",
      "Tamaño final con vecinos TB: (3090, 6)\n",
      "tag\n",
      "1    1695\n",
      "0    1395\n",
      "Name: count, dtype: int64\n"
     ]
    }
   ],
   "source": [
    "# Cargar dataset original\n",
    "labels = pd.read_csv('labels.csv', sep=';')\n",
    "\n",
    "# Etiquetar las clases: 1 para 'F', 0 para 'T'\n",
    "labels['tag'] = labels['type'].apply(lambda x: 1 if x.startswith('F') else (0 if x.startswith('T') else ''))\n",
    "\n",
    "# Elegir n para crear slices válidos en TB\n",
    "n = 7\n",
    "print(\"Antes de asignar slices TB:\\n\", labels[labels['type'] == 'TB'].head())\n",
    "create_labels_TB(labels, n, seed=42)\n",
    "print(\"Después de asignar slices TB:\\n\", labels[labels['type'] == 'TB'].head())\n",
    "print(\"Tamaño original:\", labels.shape)\n",
    "\n",
    "# Expandir todos los datos con n vecinos\n",
    "labels = add_labels(labels, n)\n",
    "\n",
    "# Balancear agregando más vecinos a TB (no duplica arbitrariamente)\n",
    "labels = expandir_tb_con_vecinos(labels, n_vecinos=1)\n",
    "\n",
    "print(\"Tamaño final con vecinos TB:\", labels.shape)\n",
    "print(labels['tag'].value_counts())"
   ]
  },
  {
   "cell_type": "code",
   "execution_count": 7,
   "id": "b8a6fffb",
   "metadata": {},
   "outputs": [
    {
     "name": "stdout",
     "output_type": "stream",
     "text": [
      "type\n",
      "FB    1080\n",
      "TB     945\n",
      "FM     615\n",
      "TM     450\n",
      "Name: count, dtype: int64\n"
     ]
    }
   ],
   "source": [
    "\n",
    "print(labels['type'].value_counts())"
   ]
  },
  {
   "cell_type": "code",
   "execution_count": 8,
   "id": "895a3276",
   "metadata": {},
   "outputs": [],
   "source": [
    "import os\n",
    "import cv2\n",
    "import numpy as np\n",
    "import pydicom\n",
    "import pandas as pd\n",
    "\n",
    "def dcm_a_png(dcm_path, png_path, window_min=-1000, window_max=400):\n",
    "    try:\n",
    "        ds = pydicom.dcmread(dcm_path)\n",
    "        img = ds.pixel_array.astype(np.float32)\n",
    "        img = np.clip(img, window_min, window_max)\n",
    "        img = ((img - window_min) / (window_max - window_min)) * 255.0\n",
    "        img = img.astype(np.uint8)\n",
    "        os.makedirs(os.path.dirname(png_path), exist_ok=True)\n",
    "        cv2.imwrite(png_path, img)\n",
    "    except Exception as e:\n",
    "        print(f\"Error procesando {dcm_path}: {e}\")\n",
    "\n",
    "def convertir_df_dcm_a_png(df, input_dir='Experiments', output_dir='output_png',\n",
    "                           window_min=-1000, window_max=400):\n",
    "    for idx, row in df.iterrows():\n",
    "        uuid = row['uuid']\n",
    "        slice_num = row['slice']\n",
    "        dcm_file = os.path.join(input_dir, f\"{uuid}/{slice_num}.dcm\")\n",
    "        png_file = os.path.join(output_dir, f\"{uuid}/{slice_num}.png\")\n",
    "        if os.path.exists(dcm_file):\n",
    "            dcm_a_png(dcm_file, png_file, window_min, window_max)\n",
    "        else:\n",
    "            print(f\"No encontrado: {dcm_file}\")\n"
   ]
  },
  {
   "cell_type": "code",
   "execution_count": 5,
   "id": "332d6cba",
   "metadata": {},
   "outputs": [],
   "source": [
    "convertir_df_dcm_a_png(labels, input_dir='Experiments', output_dir='Experiments-png')\n"
   ]
  },
  {
   "cell_type": "markdown",
   "id": "f618e130",
   "metadata": {},
   "source": [
    "Features GLCM"
   ]
  },
  {
   "cell_type": "code",
   "execution_count": 8,
   "id": "929ae072",
   "metadata": {},
   "outputs": [],
   "source": [
    "from skimage.feature import graycomatrix, graycoprops\n",
    "from skimage.io import imread\n",
    "from skimage.transform import resize\n",
    "\n",
    "def extraer_features_glcm(path_imagen, tamano=(128, 128), distancias=[1], angulos=[0]):\n",
    "    try:\n",
    "        img = imread(path_imagen, as_gray=True)\n",
    "        img = resize(img, tamano, anti_aliasing=True)\n",
    "        \n",
    "\n",
    "        # Convertir a entero (niveles de gris)\n",
    "        img = (img * 255).astype(np.uint8)\n",
    "        # Calcular GLCM\n",
    "        glcm = graycomatrix(img, \n",
    "                            distances=distancias,\n",
    "                            angles=angulos,\n",
    "                            levels=256,\n",
    "                            symmetric=True,\n",
    "                            normed=True)\n",
    "        \n",
    "        # Extraer características\n",
    "        props = ['contrast', 'dissimilarity', 'homogeneity', 'ASM', 'correlation']\n",
    "        features = [graycoprops(glcm, prop).ravel() for prop in props]\n",
    "        return np.concatenate(features)\n",
    "    except Exception as e:\n",
    "        print(f\"Error en {path_imagen}: {e}\")\n",
    "        return None\n"
   ]
  },
  {
   "cell_type": "code",
   "execution_count": 9,
   "id": "06f3c589",
   "metadata": {},
   "outputs": [],
   "source": [
    "def crear_matriz_glcm(df, path_base='Experiments-png', tamano=(128, 128), distancias=[1], angulos=[0]):\n",
    "    from tqdm import tqdm\n",
    "    X = []\n",
    "    y = []\n",
    "    uuids = []  # Nueva lista para UUIDs\n",
    "    fallos = 0\n",
    "\n",
    "    for _, row in tqdm(df.iterrows(), total=len(df)):\n",
    "        uuid = row['uuid']\n",
    "        slice_num = row['slice']\n",
    "        tag = row['tag']\n",
    "        path_img = os.path.join(path_base, f\"{uuid}/{slice_num}.png\")\n",
    "\n",
    "        if os.path.exists(path_img):\n",
    "            features = extraer_features_glcm(path_img, tamano, distancias, angulos)\n",
    "            if features is not None:\n",
    "                X.append(features)\n",
    "                y.append(tag)\n",
    "                uuids.append(uuid)  # Guardar UUID correspondiente\n",
    "            else:\n",
    "                fallos += 1\n",
    "        else:\n",
    "            print(f\"Imagen no encontrada: {path_img}\")\n",
    "            fallos += 1\n",
    "\n",
    "    print(f\"Total fallos: {fallos}\")\n",
    "    return np.array(X), np.array(y), np.array(uuids)  # Retornar también UUIDs"
   ]
  },
  {
   "cell_type": "code",
   "execution_count": 10,
   "id": "6421e835",
   "metadata": {},
   "outputs": [
    {
     "name": "stderr",
     "output_type": "stream",
     "text": [
      "100%|██████████| 3090/3090 [03:08<00:00, 16.43it/s]"
     ]
    },
    {
     "name": "stdout",
     "output_type": "stream",
     "text": [
      "Total fallos: 0\n"
     ]
    },
    {
     "name": "stderr",
     "output_type": "stream",
     "text": [
      "\n"
     ]
    }
   ],
   "source": [
    "X, y, uuids = crear_matriz_glcm(labels, \n",
    "                                tamano=(128, 128),\n",
    "                                distancias=[1, 2],\n",
    "                                angulos=[0, np.pi/4, np.pi/2, 3*np.pi/4])\n",
    "\n",
    "np.savez_compressed(\"df-deepfake.npz\", X=X, y=y, uuids=uuids)"
   ]
  },
  {
   "cell_type": "markdown",
   "id": "5c71d96e",
   "metadata": {},
   "source": [
    "LBP Features"
   ]
  },
  {
   "cell_type": "code",
   "execution_count": 2,
   "id": "fc431d23",
   "metadata": {},
   "outputs": [],
   "source": [
    "from skimage.feature import local_binary_pattern\n",
    "from skimage.io import imread\n",
    "from skimage.transform import resize\n",
    "import numpy as np\n",
    "\n",
    "def extraer_features_lbp(path_imagen, tamano=(128, 128), radius=3, n_points=24, method='uniform'):\n",
    "    try:\n",
    "        # Cargar y redimensionar imagen (igual que en tu GLCM)\n",
    "        img = imread(path_imagen, as_gray=True)\n",
    "        img = resize(img, tamano, anti_aliasing=True)\n",
    "        \n",
    "        # Convertir a uint8 (opcional, pero LBP trabaja bien con valores 0-255)\n",
    "        img = (img * 255).astype(np.uint8)\n",
    "        \n",
    "        # Calcular LBP\n",
    "        lbp = local_binary_pattern(img, n_points, radius, method)\n",
    "        \n",
    "        # Calcular histograma (normalizado)\n",
    "        hist, _ = np.histogram(lbp, bins=np.arange(0, n_points + 3), range=(0, n_points + 2))\n",
    "        hist = hist.astype(\"float\")\n",
    "        hist /= (hist.sum() + 1e-6)  # Normalizar para evitar divisiones por cero\n",
    "        \n",
    "        return hist\n",
    "    \n",
    "    except Exception as e:\n",
    "        print(f\"Error en {path_imagen}: {e}\")\n",
    "        return None"
   ]
  },
  {
   "cell_type": "code",
   "execution_count": 3,
   "id": "e0ca9b7d",
   "metadata": {},
   "outputs": [],
   "source": [
    "def crear_matriz_lbp(df, path_base='Experiments-png'):\n",
    "    X = []\n",
    "    y = []\n",
    "    uuids = []  # Para guardar UUIDs y hacer GroupSplit después\n",
    "    for _, row in df.iterrows():\n",
    "        uuid = row['uuid']\n",
    "        slice_num = row['slice']\n",
    "        path_img = os.path.join(path_base, f\"{uuid}/{slice_num}.png\")\n",
    "        if os.path.exists(path_img):\n",
    "            features = extraer_features_lbp(path_img)  # ¡Aquí usamos LBP!\n",
    "            if features is not None:\n",
    "                X.append(features)\n",
    "                y.append(row['tag'])\n",
    "                uuids.append(uuid)\n",
    "    return np.array(X), np.array(y), np.array(uuids)  # Retorna también UUIDs"
   ]
  },
  {
   "cell_type": "code",
   "execution_count": 9,
   "id": "3482f45c",
   "metadata": {},
   "outputs": [],
   "source": [
    "X_lbp, y_lbp, uuids_lbp = crear_matriz_lbp(labels)\n",
    "np.savez_compressed(\"df-deepfake-lbp.npz\", X=X_lbp, y=y_lbp, uuids=uuids_lbp)"
   ]
  }
 ],
 "metadata": {
  "kernelspec": {
   "display_name": "Python 3",
   "language": "python",
   "name": "python3"
  },
  "language_info": {
   "codemirror_mode": {
    "name": "ipython",
    "version": 3
   },
   "file_extension": ".py",
   "mimetype": "text/x-python",
   "name": "python",
   "nbconvert_exporter": "python",
   "pygments_lexer": "ipython3",
   "version": "3.11.9"
  }
 },
 "nbformat": 4,
 "nbformat_minor": 5
}
