{
 "cells": [
  {
   "cell_type": "markdown",
   "id": "b8e2b960",
   "metadata": {},
   "source": [
    "# Selección de caracteristicas"
   ]
  },
  {
   "cell_type": "code",
   "execution_count": 6,
   "id": "dd1d5347",
   "metadata": {},
   "outputs": [],
   "source": [
    "import numpy as np\n",
    "from sklearn.model_selection import train_test_split\n",
    "# Cargar el archivo\n",
    "data = np.load(\"df-deepfake.npz\")\n",
    "\n",
    "# Acceder a los arrays\n",
    "X = data['X']\n",
    "y = data['y']\n"
   ]
  },
  {
   "cell_type": "code",
   "execution_count": 7,
   "id": "70c49781",
   "metadata": {},
   "outputs": [],
   "source": [
    "from sklearn.feature_selection import SelectKBest, f_classif\n",
    "\n",
    "def select_features_filter(X, y, k=20):\n",
    "    \"\"\"\n",
    "    Selecciona las k mejores características según ANOVA F-score.\n",
    "    \"\"\"\n",
    "    selector = SelectKBest(score_func=f_classif, k=k)\n",
    "    X_new = selector.fit_transform(X, y)\n",
    "    mask = selector.get_support()  # True para las características seleccionadas\n",
    "    return X_new, mask"
   ]
  },
  {
   "cell_type": "code",
   "execution_count": 8,
   "id": "fcf072de",
   "metadata": {},
   "outputs": [],
   "source": [
    "selected_features = select_features_filter(X, y, k=30)"
   ]
  },
  {
   "cell_type": "code",
   "execution_count": 9,
   "id": "1f95d4c5",
   "metadata": {},
   "outputs": [
    {
     "data": {
      "text/plain": [
       "(array([[3.58127338e+02, 7.64220534e+02, 4.74715244e+02, ...,\n",
       "         9.45720244e-01, 9.08914183e-01, 9.47606244e-01],\n",
       "        [4.84644377e+02, 9.80036828e+02, 5.87257936e+02, ...,\n",
       "         9.29161886e-01, 8.86432234e-01, 9.34714009e-01],\n",
       "        [3.13229946e+02, 8.59019964e+02, 5.78034756e+02, ...,\n",
       "         9.32667262e-01, 8.83714246e-01, 9.41328429e-01],\n",
       "        ...,\n",
       "        [3.26513103e+02, 8.35851882e+02, 5.82992618e+02, ...,\n",
       "         9.38265695e-01, 8.92597529e-01, 9.39915353e-01],\n",
       "        [3.98067360e+02, 8.05987724e+02, 4.81166400e+02, ...,\n",
       "         9.46045659e-01, 9.14929533e-01, 9.49735037e-01],\n",
       "        [4.84276575e+02, 9.52319735e+02, 5.24121001e+02, ...,\n",
       "         9.27139397e-01, 8.89208181e-01, 9.33101618e-01]], shape=(3090, 30)),\n",
       " array([ True,  True,  True,  True,  True,  True,  True,  True,  True,\n",
       "         True,  True,  True,  True,  True,  True,  True,  True,  True,\n",
       "        False,  True,  True,  True, False,  True, False, False, False,\n",
       "        False, False, False, False, False,  True,  True,  True,  True,\n",
       "         True,  True,  True,  True]))"
      ]
     },
     "execution_count": 9,
     "metadata": {},
     "output_type": "execute_result"
    }
   ],
   "source": [
    "selected_features"
   ]
  },
  {
   "cell_type": "code",
   "execution_count": 11,
   "id": "a7bb25e5",
   "metadata": {},
   "outputs": [],
   "source": [
    "from sklearn.decomposition import PCA\n",
    "\n",
    "def reduce_with_pca(X, n_components=10):\n",
    "    pca = PCA(n_components=n_components)\n",
    "    X_pca = pca.fit_transform(X)\n",
    "    return X_pca, pca"
   ]
  },
  {
   "cell_type": "code",
   "execution_count": 12,
   "id": "8dd21c13",
   "metadata": {},
   "outputs": [
    {
     "data": {
      "text/plain": [
       "(array([[-4.16075890e+02,  8.02054262e+01,  2.58948942e+01, ...,\n",
       "          8.22883989e-03,  1.85002198e-01,  8.21821659e-02],\n",
       "        [ 1.78981277e+02,  2.02768010e+02,  7.27199395e+01, ...,\n",
       "          4.66522281e-02, -5.31345825e-02,  1.29485764e-01],\n",
       "        [-2.47484923e+02, -1.27687311e+02,  6.91881946e+01, ...,\n",
       "         -2.27480776e-02,  2.33863348e-01, -7.84853500e-02],\n",
       "        ...,\n",
       "        [-2.31862975e+02, -1.10801526e+02, -7.93898875e+00, ...,\n",
       "          4.84975392e-02, -7.65950315e-02, -1.52540707e-01],\n",
       "        [-3.20983384e+02,  2.08837522e+02,  3.84651356e+01, ...,\n",
       "          1.38133294e-01, -3.00070751e-01, -5.56594664e-02],\n",
       "        [ 9.74067010e+01,  3.62343270e+02,  7.84854836e+01, ...,\n",
       "          1.68096375e-02, -6.02792751e-02,  1.80201287e-01]],\n",
       "       shape=(3090, 10)),\n",
       " PCA(n_components=10))"
      ]
     },
     "execution_count": 12,
     "metadata": {},
     "output_type": "execute_result"
    }
   ],
   "source": [
    "reduce_with_pca(X, n_components=10)"
   ]
  },
  {
   "cell_type": "code",
   "execution_count": 18,
   "id": "8caaffe1",
   "metadata": {},
   "outputs": [],
   "source": [
    "from sklearn.feature_selection import RFE\n",
    "from sklearn.ensemble import RandomForestClassifier\n",
    "\n",
    "def select_features_rfe(X, y, k=20):\n",
    "    \"\"\"\n",
    "    Usa RFE con RandomForest para seleccionar las k mejores características.\n",
    "    \"\"\"\n",
    "    model = RandomForestClassifier()\n",
    "    selector = RFE(model, n_features_to_select=k, step=1)\n",
    "    X_new = selector.fit_transform(X, y)\n",
    "    mask = selector.get_support()\n",
    "    ranked_features = selector.ranking_\n",
    "    return X_new, mask, ranked_features"
   ]
  },
  {
   "cell_type": "code",
   "execution_count": 20,
   "id": "5421c0a5",
   "metadata": {},
   "outputs": [
    {
     "data": {
      "text/plain": [
       "(array([[3.58127338e+02, 4.74715244e+02, 7.37666997e+02, ...,\n",
       "         9.47606244e-01, 9.29100799e-01, 9.08914183e-01],\n",
       "        [4.84644377e+02, 5.87257936e+02, 9.03223882e+02, ...,\n",
       "         9.34714009e-01, 9.03669889e-01, 8.86432234e-01],\n",
       "        [3.13229946e+02, 5.78034756e+02, 7.48522227e+02, ...,\n",
       "         9.41328429e-01, 9.28756020e-01, 8.83714246e-01],\n",
       "        ...,\n",
       "        [3.26513103e+02, 5.82992618e+02, 8.13516337e+02, ...,\n",
       "         9.39915353e-01, 9.32640740e-01, 8.92597529e-01],\n",
       "        [3.98067360e+02, 4.81166400e+02, 7.50874574e+02, ...,\n",
       "         9.49735037e-01, 9.23412653e-01, 9.14929533e-01],\n",
       "        [4.84276575e+02, 5.24121001e+02, 8.74390911e+02, ...,\n",
       "         9.33101618e-01, 8.89948027e-01, 8.89208181e-01]], shape=(3090, 20)),\n",
       " array([ True, False,  True,  True, False, False,  True, False,  True,\n",
       "         True, False, False,  True, False,  True, False,  True, False,\n",
       "        False, False,  True, False, False, False, False,  True,  True,\n",
       "        False, False, False,  True,  True,  True,  True,  True,  True,\n",
       "         True, False,  True, False]),\n",
       " array([ 1, 13,  1,  1,  3,  8,  1,  5,  1,  1, 10, 19,  1, 15,  1, 17,  1,\n",
       "         6,  4, 18,  1, 14, 20, 21,  9,  1,  1,  7, 16, 12,  1,  1,  1,  1,\n",
       "         1,  1,  1, 11,  1,  2]))"
      ]
     },
     "execution_count": 20,
     "metadata": {},
     "output_type": "execute_result"
    }
   ],
   "source": [
    "select_features_rfe(X, y, k=20)"
   ]
  },
  {
   "cell_type": "code",
   "execution_count": null,
   "id": "cb5296c7",
   "metadata": {},
   "outputs": [],
   "source": [
    "labelsTemp = labels[['uuid', 'tag']].drop_duplicates().reset_index(drop=True)\n",
    "\n",
    "labelsTemp"
   ]
  },
  {
   "cell_type": "code",
   "execution_count": null,
   "id": "e814a5c2",
   "metadata": {},
   "outputs": [],
   "source": [
    "labelsTrain = labels.loc[labels['uuid'].isin(train_df['uuid'])].reset_index(drop=True)\n",
    "\n",
    "labelsTest = labels.loc[labels['uuid'].isin(test_df['uuid'])].reset_index(drop=True)\n",
    "\n",
    "print(\"Train shape:\", labelsTrain.shape)\n",
    "print(\"Test shape:\", labelsTest.shape)\n",
    "print(\"Train tag distribution:\\n\", labelsTrain['tag'].value_counts(normalize=True))\n",
    "print(\"Test tag distribution:\\n\", labelsTest['tag'].value_counts(normalize=True))"
   ]
  },
  {
   "cell_type": "code",
   "execution_count": null,
   "id": "2c3236c4",
   "metadata": {},
   "outputs": [],
   "source": [
    "from sklearn.model_selection import train_test_split\n",
    "\n",
    "\n",
    "# Stratified split: 80% train, 20% test, using 'tag' as the stratification label\n",
    "train_df, test_df = train_test_split(\n",
    "    labelsTemp,\n",
    "    test_size=0.2,\n",
    "    random_state=42,\n",
    "    stratify=labelsTemp['tag']\n",
    ")\n",
    "\n",
    "print(\"Train shape:\", train_df.shape)\n",
    "print(\"Test shape:\", test_df.shape)\n",
    "print(\"Train tag distribution:\\n\", train_df['tag'].value_counts(normalize=True))\n",
    "print(\"Test tag distribution:\\n\", test_df['tag'].value_counts(normalize=True))"
   ]
  }
 ],
 "metadata": {
  "kernelspec": {
   "display_name": "Python 3",
   "language": "python",
   "name": "python3"
  },
  "language_info": {
   "codemirror_mode": {
    "name": "ipython",
    "version": 3
   },
   "file_extension": ".py",
   "mimetype": "text/x-python",
   "name": "python",
   "nbconvert_exporter": "python",
   "pygments_lexer": "ipython3",
   "version": "3.13.3"
  }
 },
 "nbformat": 4,
 "nbformat_minor": 5
}
