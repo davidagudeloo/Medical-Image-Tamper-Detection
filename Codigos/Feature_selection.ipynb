{
 "cells": [
  {
   "cell_type": "markdown",
   "id": "b8e2b960",
   "metadata": {},
   "source": [
    "# Selección de caracteristicas"
   ]
  },
  {
   "cell_type": "code",
   "execution_count": 1,
   "id": "dd1d5347",
   "metadata": {},
   "outputs": [],
   "source": [
    "import numpy as np\n",
    "from sklearn.model_selection import train_test_split\n",
    "# Cargar el archivo\n",
    "data = np.load(\"df-deepfake.npz\")\n",
    "\n",
    "# Acceder a los arrays\n",
    "X = data['X']\n",
    "y = data['y']\n"
   ]
  },
  {
   "cell_type": "code",
   "execution_count": null,
   "id": "70c49781",
   "metadata": {},
   "outputs": [],
   "source": [
    "from sklearn.feature_selection import SelectKBest, f_classif\n",
    "\n",
    "def select_features_filter(X, y, k=20):\n",
    "    \"\"\"\n",
    "    Selecciona las k mejores características según ANOVA F-score.\n",
    "    \"\"\"\n",
    "    selector = SelectKBest(score_func=f_classif, k=k)\n",
    "    X_new = selector.fit_transform(X, y)\n",
    "    mask = selector.get_support()  # True para las características seleccionadas\n",
    "    return X_new, mask"
   ]
  },
  {
   "cell_type": "code",
   "execution_count": 3,
   "id": "fcf072de",
   "metadata": {},
   "outputs": [],
   "source": [
    "selected_features = select_features_filter(X, y, k=20)"
   ]
  },
  {
   "cell_type": "code",
   "execution_count": 4,
   "id": "1f95d4c5",
   "metadata": {},
   "outputs": [
    {
     "data": {
      "text/plain": [
       "(array([[3.58127338e+02, 7.64220534e+02, 4.74715244e+02, ...,\n",
       "         9.45720244e-01, 9.08914183e-01, 9.47606244e-01],\n",
       "        [4.84644377e+02, 9.80036828e+02, 5.87257936e+02, ...,\n",
       "         9.29161886e-01, 8.86432234e-01, 9.34714009e-01],\n",
       "        [3.13229946e+02, 8.59019964e+02, 5.78034756e+02, ...,\n",
       "         9.32667262e-01, 8.83714246e-01, 9.41328429e-01],\n",
       "        ...,\n",
       "        [3.26513103e+02, 8.35851882e+02, 5.82992618e+02, ...,\n",
       "         9.38265695e-01, 8.92597529e-01, 9.39915353e-01],\n",
       "        [3.98067360e+02, 8.05987724e+02, 4.81166400e+02, ...,\n",
       "         9.46045659e-01, 9.14929533e-01, 9.49735037e-01],\n",
       "        [4.84276575e+02, 9.52319735e+02, 5.24121001e+02, ...,\n",
       "         9.27139397e-01, 8.89208181e-01, 9.33101618e-01]], shape=(3090, 20)),\n",
       " array([ True,  True,  True,  True,  True,  True,  True,  True, False,\n",
       "         True,  True,  True, False,  True,  True,  True, False, False,\n",
       "        False, False, False, False, False, False, False, False, False,\n",
       "        False, False, False, False, False, False,  True,  True,  True,\n",
       "        False,  True,  True,  True]))"
      ]
     },
     "execution_count": 4,
     "metadata": {},
     "output_type": "execute_result"
    }
   ],
   "source": [
    "selected_features"
   ]
  }
 ],
 "metadata": {
  "kernelspec": {
   "display_name": "Python 3",
   "language": "python",
   "name": "python3"
  },
  "language_info": {
   "codemirror_mode": {
    "name": "ipython",
    "version": 3
   },
   "file_extension": ".py",
   "mimetype": "text/x-python",
   "name": "python",
   "nbconvert_exporter": "python",
   "pygments_lexer": "ipython3",
   "version": "3.13.3"
  }
 },
 "nbformat": 4,
 "nbformat_minor": 5
}
