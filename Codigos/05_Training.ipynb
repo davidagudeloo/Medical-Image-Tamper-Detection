{
 "cells": [
  {
   "cell_type": "markdown",
   "id": "c7a9faee",
   "metadata": {},
   "source": [
    "# 📊 Entrenamiento y Validación de Modelos\n",
    "\n",
    "En esta fase se desarrolla el núcleo del proyecto de detección de imágenes médicas manipuladas. Aquí se construyen, entrenan y evalúan múltiples modelos de machine learning para abordar el problema como una clasificación binaria. La tarea consiste en identificar si una imagen médica ha sido manipulada o no, utilizando las características extraídas previamente.\n",
    "\n",
    "Se implementan técnicas para dividir el dataset en conjuntos de **entrenamiento, validación y prueba**, lo que permite evaluar el rendimiento de los modelos y evitar problemas como el overfitting. Además, se utilizan métricas de clasificación y visualizaciones para analizar los resultados.\n",
    "\n",
    "---\n",
    "\n",
    "## 🧠 Modelos implementados / Models implemented\n",
    "Se probaron diferentes algoritmos para comparar su rendimiento:\n",
    "\n",
    "- ✅ **Logistic Regression**\n",
    "- ✅ **K-Nearest Neighbors (KNN)**\n",
    "- ✅ **Random Forest**\n",
    "- ✅ **Support Vector Machines (SVM)**\n",
    "- ✅ **Multilayer Neural Network**\n",
    "\n",
    "Cada modelo fue entrenado con los datos seleccionados en la fase anterior y evaluado usando técnicas de validación cruzada y partición estratificada de datos.\n",
    "\n",
    "---\n",
    "\n",
    "## 📦 Output esperado / Expected Output\n",
    "\n",
    "- ✅ Reportes de desempeño de cada modelo (métricas como precisión, recall, F1-score, AUC-ROC)."
   ]
  },
  {
   "cell_type": "code",
   "execution_count": 16,
   "id": "8110044b",
   "metadata": {},
   "outputs": [],
   "source": [
    "import numpy as np\n",
    "import pandas as pd\n",
    "from sklearn.model_selection import train_test_split\n",
    "from sklearn.linear_model import LogisticRegression\n",
    "from sklearn.preprocessing import StandardScaler\n",
    "from sklearn.model_selection import GridSearchCV, LeaveOneOut, GroupKFold, GroupShuffleSplit\n",
    "from sklearn.utils.class_weight import compute_class_weight\n",
    "from sklearn.metrics import classification_report\n",
    "from sklearn.feature_selection import VarianceThreshold, SelectKBest, f_classif\n",
    "from sklearn.neighbors import KNeighborsClassifier\n",
    "from sklearn.ensemble import RandomForestClassifier\n",
    "from sklearn.svm import SVC\n",
    "import torch\n",
    "import torch.nn as nn\n",
    "import torch.optim as optim\n"
   ]
  },
  {
   "cell_type": "code",
   "execution_count": 17,
   "id": "e47cdc66",
   "metadata": {},
   "outputs": [
    {
     "name": "stdout",
     "output_type": "stream",
     "text": [
      "Shape X: (474, 30)\n",
      "Shape y: (474,)\n",
      "Shape groups: (474,)\n"
     ]
    }
   ],
   "source": [
    "# Cargar el archivo\n",
    "data = np.load(\"data.npz\")\n",
    "\n",
    "# Acceder a los arrays\n",
    "X = data['X']\n",
    "y = data['y']\n",
    "groups = data['groups']\n",
    "\n",
    "print(f\"Shape X: {X.shape}\")\n",
    "print(f\"Shape y: {y.shape}\")\n",
    "print(f\"Shape groups: {groups.shape}\")"
   ]
  },
  {
   "cell_type": "markdown",
   "id": "cc14fad7",
   "metadata": {},
   "source": [
    "# Split forma 1"
   ]
  },
  {
   "cell_type": "code",
   "execution_count": null,
   "id": "d74faec3",
   "metadata": {},
   "outputs": [
    {
     "name": "stdout",
     "output_type": "stream",
     "text": [
      "Train: (339, 30), Val: (87, 30), Test: (48, 30)\n"
     ]
    }
   ],
   "source": [
    "\n",
    "\n",
    "# 🔹 Primer split: 90% Train+Val, 10% Test\n",
    "gss = GroupShuffleSplit(n_splits=1, test_size=0.1)\n",
    "train_val_idx, test_idx = next(gss.split(X, y, groups=groups))\n",
    "\n",
    "X_train_val, X_test = X[train_val_idx], X[test_idx]\n",
    "y_train_val, y_test = y[train_val_idx], y[test_idx]\n",
    "groups_train_val = groups[train_val_idx]\n",
    "\n",
    "# 🔹 Segundo split: 80% Train, 20% Validación dentro del 90% que quedó\n",
    "gss_inner = GroupShuffleSplit(n_splits=1, test_size=0.2, random_state=20)\n",
    "train_idx, val_idx = next(gss_inner.split(X_train_val, y_train_val, groups=groups_train_val))\n",
    "\n",
    "X_train, X_val = X_train_val[train_idx], X_train_val[val_idx]\n",
    "y_train, y_val = y_train_val[train_idx], y_train_val[val_idx]\n",
    "groups_train = groups_train_val[train_idx]\n",
    "groups_val = groups_train_val[val_idx]\n",
    "\n",
    "print(f\"Train: {X_train.shape}, Val: {X_val.shape}, Test: {X_test.shape}\")"
   ]
  },
  {
   "cell_type": "code",
   "execution_count": 79,
   "id": "0d6809f3",
   "metadata": {},
   "outputs": [
    {
     "name": "stdout",
     "output_type": "stream",
     "text": [
      "Conteo de clases en y_train:\n",
      "Clase 0: 108 muestras\n",
      "Clase 1: 231 muestras\n",
      "Conteo de clases en y_val:\n",
      "Clase 0: 15 muestras\n",
      "Clase 1: 72 muestras\n",
      "Conteo de clases en y_test:\n",
      "Clase 0: 12 muestras\n",
      "Clase 1: 36 muestras\n"
     ]
    }
   ],
   "source": [
    "# Conteo de clases\n",
    "unique, counts = np.unique(y_train, return_counts=True)\n",
    "print(\"Conteo de clases en y_train:\")\n",
    "for cls, cnt in zip(unique, counts):\n",
    "    print(f\"Clase {cls}: {cnt} muestras\")\n",
    "\n",
    "# Conteo de clases\n",
    "unique, counts = np.unique(y_val, return_counts=True)\n",
    "print(\"Conteo de clases en y_val:\")\n",
    "for cls, cnt in zip(unique, counts):\n",
    "    print(f\"Clase {cls}: {cnt} muestras\")\n",
    "\n",
    "# Conteo de clases\n",
    "unique, counts = np.unique(y_test, return_counts=True)\n",
    "print(\"Conteo de clases en y_test:\")\n",
    "for cls, cnt in zip(unique, counts):\n",
    "    print(f\"Clase {cls}: {cnt} muestras\")"
   ]
  },
  {
   "cell_type": "markdown",
   "id": "a9670fdd",
   "metadata": {},
   "source": [
    "# Logistic Regression"
   ]
  },
  {
   "cell_type": "code",
   "execution_count": null,
   "id": "a70432d6",
   "metadata": {},
   "outputs": [
    {
     "name": "stdout",
     "output_type": "stream",
     "text": [
      "🔍 Mejor combinación de hiperparámetros: {'C': 0.01, 'penalty': 'l2', 'solver': 'lbfgs'}\n",
      "📈 Mejor F1-score (CV): 0.7924\n",
      "✅ Accuracy medio: 0.6711\n",
      "✅ Recall medio:   0.9896\n"
     ]
    }
   ],
   "source": [
    "# GroupKFold\n",
    "gkf = GroupKFold(n_splits=5)\n",
    "\n",
    "# Escalar manualmente\n",
    "scaler = StandardScaler()\n",
    "X_scaled = scaler.fit_transform(X_train)\n",
    "\n",
    "# Modelo base\n",
    "lr = LogisticRegression(max_iter=1000)\n",
    "\n",
    "# Definir grilla de hiperparámetros\n",
    "param_grid = {\n",
    "    'C': [0.01, 0.1, 1, 10, 100],             # Regularización\n",
    "    'solver': ['lbfgs', 'liblinear'],         # Algoritmos\n",
    "    'penalty': ['l2']                         # Tipo de penalización \n",
    "}\n",
    "\n",
    "# Métricas para evaluar\n",
    "scoring = {\n",
    "    'accuracy': 'accuracy',\n",
    "    'recall': 'recall',\n",
    "    'f1': 'f1'\n",
    "}\n",
    "\n",
    "grid = GridSearchCV(estimator=lr, param_grid=param_grid, cv=gkf,\n",
    "                    scoring=scoring, refit='f1', return_train_score=False)\n",
    "\n",
    "# Entrenar\n",
    "grid.fit(X_scaled, y_train, groups=groups_train)\n",
    "\n",
    "# Resultados\n",
    "print(\"🔍 Mejor combinación de hiperparámetros:\", grid.best_params_)\n",
    "print(f\"📈 Mejor F1-score (CV): {grid.best_score_:.4f}\")\n",
    "\n",
    "means = grid.cv_results_\n",
    "print(f\"✅ Accuracy medio: {means['mean_test_accuracy'][grid.best_index_]:.4f}\")\n",
    "print(f\"✅ Recall medio:   {means['mean_test_recall'][grid.best_index_]:.4f}\")"
   ]
  },
  {
   "cell_type": "code",
   "execution_count": null,
   "id": "fff216dd",
   "metadata": {},
   "outputs": [
    {
     "name": "stdout",
     "output_type": "stream",
     "text": [
      "🔹 Evaluación en TRAIN:\n",
      "              precision    recall  f1-score   support\n",
      "\n",
      "        Real       0.77      0.09      0.17       108\n",
      "        Fake       0.70      0.99      0.82       231\n",
      "\n",
      "    accuracy                           0.70       339\n",
      "   macro avg       0.73      0.54      0.49       339\n",
      "weighted avg       0.72      0.70      0.61       339\n",
      "\n",
      "\n",
      "🔹 Evaluación en VALIDACIÓN:\n",
      "              precision    recall  f1-score   support\n",
      "\n",
      "        Real       0.50      0.07      0.12        15\n",
      "        Fake       0.84      0.99      0.90        72\n",
      "\n",
      "    accuracy                           0.83        87\n",
      "   macro avg       0.67      0.53      0.51        87\n",
      "weighted avg       0.78      0.83      0.77        87\n",
      "\n"
     ]
    }
   ],
   "source": [
    "\n",
    "# 2. Escalado y selección de características\n",
    "scaler = StandardScaler()\n",
    "X_train_scaled = scaler.fit_transform(X_train)\n",
    "X_val_scaled = scaler.transform(X_val)\n",
    "\n",
    "# 4. Modelo con ajuste fino\n",
    "lr = LogisticRegression(\n",
    "    C=0.1,                   \n",
    "    penalty='l2',\n",
    "    solver='liblinear',\n",
    "    max_iter=1000,           \n",
    "    random_state=42\n",
    ")\n",
    "\n",
    "# 5. Entrenamiento y evaluación\n",
    "lr.fit(X_train_scaled, y_train)\n",
    "\n",
    "print(\"🔹 Evaluación en TRAIN:\")\n",
    "print(classification_report(y_train, lr.predict(X_train_scaled), target_names=[\"Real\", \"Fake\"], zero_division=0.0))\n",
    "\n",
    "print(\"\\n🔹 Evaluación en VALIDACIÓN:\")\n",
    "y_pred_val = lr.predict(X_val_scaled)\n",
    "print(classification_report(y_val, y_pred_val, target_names=[\"Real\", \"Fake\"], zero_division=0.0))"
   ]
  },
  {
   "cell_type": "markdown",
   "id": "7ed52f4a",
   "metadata": {},
   "source": [
    "# Knn Neighbors"
   ]
  },
  {
   "cell_type": "code",
   "execution_count": null,
   "id": "dc73de64",
   "metadata": {},
   "outputs": [
    {
     "name": "stdout",
     "output_type": "stream",
     "text": [
      "Fitting 339 folds for each of 6 candidates, totalling 2034 fits\n",
      "🔍 Mejor combinación de hiperparámetros: {'metric': 'euclidean', 'n_neighbors': 15, 'weights': 'uniform'}\n",
      "📈 Mejor F1-score (CV): 0.6372\n",
      "✅ Accuracy medio:       0.6991\n",
      "✅ Recall medio:         0.6372\n"
     ]
    }
   ],
   "source": [
    "# GroupKFold\n",
    "gkf = GroupKFold(n_splits=5)\n",
    "\n",
    "# Escalar\n",
    "scaler = StandardScaler()\n",
    "X_scaled = scaler.fit_transform(X_train)\n",
    "X_val_scaled = scaler.transform(X_val)\n",
    "\n",
    "# Modelo base\n",
    "knn = KNeighborsClassifier()\n",
    "\n",
    "# Grilla de hiperparámetros\n",
    "param_grid = {\n",
    "    'n_neighbors': [5, 10, 15],\n",
    "    'weights': ['uniform'],\n",
    "    'metric': ['euclidean', 'manhattan']\n",
    "}\n",
    "\n",
    "# Scoring múltiple\n",
    "scoring = {\n",
    "    'accuracy': 'accuracy',\n",
    "    'recall': 'recall',\n",
    "    'f1': 'f1'\n",
    "}\n",
    "\n",
    "# GridSearch\n",
    "grid = GridSearchCV(\n",
    "    estimator=knn,\n",
    "    param_grid=param_grid,\n",
    "    scoring=scoring,\n",
    "    refit='f1',  \n",
    "    cv=gkf,\n",
    "    n_jobs=-1,\n",
    "    verbose=1\n",
    ")\n",
    "\n",
    "# Entrenar\n",
    "grid.fit(X_scaled, y_train)\n",
    "\n",
    "best_params = grid.best_params_\n",
    "\n",
    "\n",
    "# Resultados\n",
    "print(\"🔍 Mejor combinación de hiperparámetros:\", grid.best_params_)\n",
    "print(f\"📈 Mejor F1-score (CV): {grid.cv_results_['mean_test_f1'][grid.best_index_]:.4f}\")\n",
    "print(f\"✅ Accuracy medio:       {grid.cv_results_['mean_test_accuracy'][grid.best_index_]:.4f}\")\n",
    "print(f\"✅ Recall medio:         {grid.cv_results_['mean_test_recall'][grid.best_index_]:.4f}\")"
   ]
  },
  {
   "cell_type": "code",
   "execution_count": 83,
   "id": "5e6cecc7",
   "metadata": {},
   "outputs": [
    {
     "name": "stdout",
     "output_type": "stream",
     "text": [
      "🔹 Evaluación en TRAIN:\n",
      "              precision    recall  f1-score   support\n",
      "\n",
      "           0       0.73      0.22      0.34       108\n",
      "           1       0.73      0.96      0.83       231\n",
      "\n",
      "    accuracy                           0.73       339\n",
      "   macro avg       0.73      0.59      0.58       339\n",
      "weighted avg       0.73      0.73      0.67       339\n",
      "\n",
      "\n",
      "🔹 Evaluación en VALIDACIÓN:\n",
      "              precision    recall  f1-score   support\n",
      "\n",
      "           0       0.18      0.13      0.15        15\n",
      "           1       0.83      0.88      0.85        72\n",
      "\n",
      "    accuracy                           0.75        87\n",
      "   macro avg       0.51      0.50      0.50        87\n",
      "weighted avg       0.72      0.75      0.73        87\n",
      "\n"
     ]
    }
   ],
   "source": [
    "knn = KNeighborsClassifier(\n",
    "    n_neighbors=best_params['n_neighbors'],\n",
    "    weights=best_params['weights'],\n",
    "    metric=best_params['metric']\n",
    ")\n",
    "knn.fit(X_scaled, y_train)\n",
    "\n",
    "# 5. Evaluación\n",
    "print(\"🔹 Evaluación en TRAIN:\")\n",
    "print(classification_report(y_train, knn.predict(X_scaled)))\n",
    "\n",
    "print(\"\\n🔹 Evaluación en VALIDACIÓN:\")\n",
    "print(classification_report(y_val, knn.predict(X_val_scaled)))\n"
   ]
  },
  {
   "cell_type": "markdown",
   "id": "99b45e97",
   "metadata": {},
   "source": [
    "# Random Forest"
   ]
  },
  {
   "cell_type": "code",
   "execution_count": null,
   "id": "0c44fea0",
   "metadata": {},
   "outputs": [
    {
     "name": "stdout",
     "output_type": "stream",
     "text": [
      "Fitting 5 folds for each of 24 candidates, totalling 120 fits\n",
      "🔍 Mejor combinación de hiperparámetros: {'max_depth': 5, 'min_samples_leaf': 1, 'min_samples_split': 2, 'n_estimators': 200}\n",
      "📈 Mejor F1-score (CV): 0.7728\n",
      "✅ Accuracy medio:       0.6510\n",
      "✅ Recall medio:         0.9199\n"
     ]
    }
   ],
   "source": [
    "# GroupKFold\n",
    "gkf = GroupKFold(n_splits=5)\n",
    "\n",
    "# Escalar\n",
    "scaler = StandardScaler()\n",
    "X_scaled = scaler.fit_transform(X_train)\n",
    "X_val_scaled = scaler.transform(X_val)\n",
    "\n",
    "# Definir modelo base\n",
    "rf = RandomForestClassifier(random_state=42)\n",
    "\n",
    "# Definir la grilla de hiperparámetros\n",
    "param_grid = {\n",
    "    'n_estimators': [100, 200],\n",
    "    'max_depth': [5, 10, 15],\n",
    "    'min_samples_split': [2, 5],\n",
    "    'min_samples_leaf': [1, 2]\n",
    "}\n",
    "\n",
    "scoring = {\n",
    "    'accuracy': 'accuracy',\n",
    "    'recall': 'recall',\n",
    "    'f1': 'f1'\n",
    "}\n",
    "\n",
    "# Crear GridSearchCV\n",
    "grid = GridSearchCV(\n",
    "    estimator=rf,\n",
    "    param_grid=param_grid,\n",
    "    scoring=scoring,  \n",
    "    cv=gkf,\n",
    "    refit='f1',  \n",
    "    n_jobs=-1,\n",
    "    verbose=1\n",
    ")\n",
    "\n",
    "# Ejecutar búsqueda\n",
    "grid.fit(X_scaled, y_train, groups=groups_train)\n",
    "best_params = grid.best_params_\n",
    "\n",
    "# Resultados\n",
    "print(\"🔍 Mejor combinación de hiperparámetros:\", grid.best_params_)\n",
    "print(f\"📈 Mejor F1-score (CV): {grid.cv_results_['mean_test_f1'][grid.best_index_]:.4f}\")\n",
    "print(f\"✅ Accuracy medio:       {grid.cv_results_['mean_test_accuracy'][grid.best_index_]:.4f}\")\n",
    "print(f\"✅ Recall medio:         {grid.cv_results_['mean_test_recall'][grid.best_index_]:.4f}\")"
   ]
  },
  {
   "cell_type": "code",
   "execution_count": 85,
   "id": "71002ea9",
   "metadata": {},
   "outputs": [
    {
     "name": "stdout",
     "output_type": "stream",
     "text": [
      "🔹 Evaluación en TRAIN:\n",
      "              precision    recall  f1-score   support\n",
      "\n",
      "           0       1.00      0.61      0.76       108\n",
      "           1       0.85      1.00      0.92       231\n",
      "\n",
      "    accuracy                           0.88       339\n",
      "   macro avg       0.92      0.81      0.84       339\n",
      "weighted avg       0.90      0.88      0.87       339\n",
      "\n",
      "🔹 Evaluación en VALIDACIÓN:\n",
      "              precision    recall  f1-score   support\n",
      "\n",
      "           0       0.33      0.13      0.19        15\n",
      "           1       0.84      0.94      0.89        72\n",
      "\n",
      "    accuracy                           0.80        87\n",
      "   macro avg       0.59      0.54      0.54        87\n",
      "weighted avg       0.75      0.80      0.77        87\n",
      "\n"
     ]
    }
   ],
   "source": [
    "# 2. Escalar los datos\n",
    "scaler = StandardScaler()\n",
    "X_train_scaled = scaler.fit_transform(X_train)\n",
    "X_val_scaled = scaler.transform(X_val)\n",
    "\n",
    "# 3. Crear y entrenar modelo\n",
    "rf = RandomForestClassifier(\n",
    "    max_depth= best_params['max_depth'], \n",
    "    min_samples_leaf= best_params['min_samples_leaf'],\n",
    "    min_samples_split= best_params['min_samples_split'], \n",
    "    n_estimators = best_params['n_estimators'], \n",
    "    random_state=42\n",
    "    )\n",
    "rf.fit(X_train_scaled, y_train)\n",
    "\n",
    "# 4. Evaluar en entrenamiento y validación\n",
    "print(\"🔹 Evaluación en TRAIN:\")\n",
    "print(classification_report(y_train, rf.predict(X_train_scaled),zero_division=0))\n",
    "\n",
    "print(\"🔹 Evaluación en VALIDACIÓN:\")\n",
    "print(classification_report(y_val, rf.predict(X_val_scaled),zero_division=0))\n"
   ]
  },
  {
   "cell_type": "markdown",
   "id": "d63983ef",
   "metadata": {},
   "source": [
    "# SVM"
   ]
  },
  {
   "cell_type": "code",
   "execution_count": 86,
   "id": "ac0123c9",
   "metadata": {},
   "outputs": [
    {
     "name": "stdout",
     "output_type": "stream",
     "text": [
      "Fitting 5 folds for each of 54 candidates, totalling 270 fits\n",
      "🔍 Mejor combinación de hiperparámetros: {'C': 0.1, 'degree': 2, 'gamma': 'scale', 'kernel': 'rbf'}\n",
      "📈 Mejor F1-score (CV): 0.7976\n",
      "✅ Accuracy medio:       0.6798\n",
      "✅ Recall medio:         1.0000\n"
     ]
    }
   ],
   "source": [
    "# GroupKFold\n",
    "gkf = GroupKFold(n_splits=5)\n",
    "\n",
    "# Escalar\n",
    "scaler = StandardScaler()\n",
    "X_scaled = scaler.fit_transform(X_train)\n",
    "X_val_scaled = scaler.transform(X_val)\n",
    "\n",
    "# Definir modelo\n",
    "svm = SVC(random_state=42)\n",
    "\n",
    "# Grilla de hiperparámetros\n",
    "param_grid = {\n",
    "        'kernel': ['linear','rbf', 'poly' ],\n",
    "        'C': [0.1, 1, 10],\n",
    "        'degree': [2, 3],\n",
    "        'gamma': ['scale', 0.01, 0.1]\n",
    "    }\n",
    "\n",
    "# Métricas\n",
    "scoring = {\n",
    "    'accuracy': 'accuracy',\n",
    "    'recall': 'recall',\n",
    "    'f1': 'f1'\n",
    "}\n",
    "\n",
    "# GridSearchCV\n",
    "grid = GridSearchCV(\n",
    "    estimator=svm,\n",
    "    param_grid=param_grid,\n",
    "    scoring=scoring,\n",
    "    refit='f1',\n",
    "    cv=gkf,\n",
    "    n_jobs=-1,\n",
    "    verbose=1\n",
    ")\n",
    "\n",
    "# Ajustar\n",
    "grid.fit(X_scaled, y_train, groups=groups_train)\n",
    "best_params = grid.best_params_\n",
    "\n",
    "# Resultados\n",
    "print(\"🔍 Mejor combinación de hiperparámetros:\", grid.best_params_)\n",
    "print(f\"📈 Mejor F1-score (CV): {grid.cv_results_['mean_test_f1'][grid.best_index_]:.4f}\")\n",
    "print(f\"✅ Accuracy medio:       {grid.cv_results_['mean_test_accuracy'][grid.best_index_]:.4f}\")\n",
    "print(f\"✅ Recall medio:         {grid.cv_results_['mean_test_recall'][grid.best_index_]:.4f}\")"
   ]
  },
  {
   "cell_type": "code",
   "execution_count": 87,
   "id": "c8299c52",
   "metadata": {},
   "outputs": [
    {
     "name": "stdout",
     "output_type": "stream",
     "text": [
      "🔹 Evaluación en TRAIN:\n",
      "              precision    recall  f1-score   support\n",
      "\n",
      "           0       0.00      0.00      0.00       108\n",
      "           1       0.68      1.00      0.81       231\n",
      "\n",
      "    accuracy                           0.68       339\n",
      "   macro avg       0.34      0.50      0.41       339\n",
      "weighted avg       0.46      0.68      0.55       339\n",
      "\n",
      "🔹 Evaluación en VALIDACIÓN:\n",
      "              precision    recall  f1-score   support\n",
      "\n",
      "           0       0.00      0.00      0.00        15\n",
      "           1       0.83      1.00      0.91        72\n",
      "\n",
      "    accuracy                           0.83        87\n",
      "   macro avg       0.41      0.50      0.45        87\n",
      "weighted avg       0.68      0.83      0.75        87\n",
      "\n"
     ]
    }
   ],
   "source": [
    "# 3. Crear y entrenar modelo\n",
    "svm = SVC(\n",
    "    C=best_params['C'], \n",
    "    kernel=best_params['kernel'], \n",
    "    gamma=best_params['gamma'], \n",
    "    degree = best_params['degree'], \n",
    "    random_state=42\n",
    "    )\n",
    "svm.fit(X_train_scaled, y_train)\n",
    "\n",
    "# 4. Evaluar en entrenamiento y validación\n",
    "print(\"🔹 Evaluación en TRAIN:\")\n",
    "print(classification_report(y_train, svm.predict(X_train_scaled), zero_division=0.0))\n",
    "\n",
    "print(\"🔹 Evaluación en VALIDACIÓN:\")\n",
    "print(classification_report(y_val, svm.predict(X_val_scaled), zero_division=0.0))\n"
   ]
  },
  {
   "cell_type": "markdown",
   "id": "b6efea9a",
   "metadata": {},
   "source": [
    "# Neural Network"
   ]
  },
  {
   "cell_type": "code",
   "execution_count": null,
   "id": "964dbdfa",
   "metadata": {},
   "outputs": [
    {
     "name": "stdout",
     "output_type": "stream",
     "text": [
      "🔹 Evaluación en TRAIN:\n",
      "              precision    recall  f1-score   support\n",
      "\n",
      "           0       1.00      0.06      0.11       108\n",
      "           1       0.69      1.00      0.82       231\n",
      "\n",
      "    accuracy                           0.70       339\n",
      "   macro avg       0.85      0.53      0.46       339\n",
      "weighted avg       0.79      0.70      0.59       339\n",
      "\n",
      "\n",
      "🔹 Evaluación en VALIDACIÓN:\n",
      "              precision    recall  f1-score   support\n",
      "\n",
      "           0       0.33      0.13      0.19        15\n",
      "           1       0.84      0.94      0.89        72\n",
      "\n",
      "    accuracy                           0.80        87\n",
      "   macro avg       0.59      0.54      0.54        87\n",
      "weighted avg       0.75      0.80      0.77        87\n",
      "\n"
     ]
    }
   ],
   "source": [
    "# ----------------- 1. Escalado ----------------- #\n",
    "scaler = StandardScaler()\n",
    "X_train_scaled = scaler.fit_transform(X_train)\n",
    "X_val_scaled = scaler.transform(X_val)\n",
    "\n",
    "\n",
    "# ----------------- 3. Preparar tensores ----------------- #\n",
    "X_train_tensor = torch.tensor(X_train_scaled, dtype=torch.float32)\n",
    "y_train_tensor = torch.tensor(y_train.reshape(-1, 1), dtype=torch.float32)\n",
    "\n",
    "X_val_tensor = torch.tensor(X_val_scaled, dtype=torch.float32)\n",
    "y_val_tensor = torch.tensor(y_val.reshape(-1, 1), dtype=torch.float32)\n",
    "\n",
    "# ----------------- 4. Definir Red Neuronal ----------------- #\n",
    "class SimpleNN(nn.Module):\n",
    "    def __init__(self, input_size, hidden_size=32):\n",
    "        super(SimpleNN, self).__init__()\n",
    "        self.fc1 = nn.Linear(input_size, hidden_size)\n",
    "        self.relu = nn.ReLU()\n",
    "        self.fc2 = nn.Linear(hidden_size, 1)\n",
    "    \n",
    "    def forward(self, x):\n",
    "        x = self.fc1(x)\n",
    "        x = self.relu(x)\n",
    "        x = self.fc2(x)\n",
    "        return x  \n",
    "\n",
    "\n",
    "model = SimpleNN(input_size=X_train_scaled.shape[1], hidden_size=32)\n",
    "\n",
    "# ----------------- 5. Configuración ----------------- #\n",
    "criterion = nn.BCEWithLogitsLoss()\n",
    "optimizer = optim.Adam(model.parameters(), lr=0.001)\n",
    "\n",
    "# ----------------- 6. Entrenamiento ----------------- #\n",
    "epochs = 100\n",
    "for epoch in range(epochs):\n",
    "    model.train()\n",
    "    optimizer.zero_grad()\n",
    "    outputs = model(X_train_tensor)\n",
    "    loss = criterion(outputs, y_train_tensor)\n",
    "    loss.backward()\n",
    "    optimizer.step()\n",
    "\n",
    "# ----------------- 7. Evaluación ----------------- #\n",
    "model.eval()\n",
    "with torch.no_grad():\n",
    "    outputs_train = model(X_train_tensor)\n",
    "    probs_train = torch.sigmoid(outputs_train).numpy()\n",
    "    y_pred_train = (probs_train > 0.5).astype(int).flatten()\n",
    "\n",
    "    outputs_val = model(X_val_tensor)\n",
    "    probs_val = torch.sigmoid(outputs_val).numpy()\n",
    "    y_pred_val = (probs_val > 0.5).astype(int).flatten()\n",
    "\n",
    "print(\"🔹 Evaluación en TRAIN:\")\n",
    "print(classification_report(y_train, y_pred_train, zero_division=0.0))\n",
    "\n",
    "print(\"\\n🔹 Evaluación en VALIDACIÓN:\")\n",
    "print(classification_report(y_val, y_pred_val, zero_division=0.0))"
   ]
  },
  {
   "cell_type": "code",
   "execution_count": null,
   "id": "1166f623",
   "metadata": {},
   "outputs": [
    {
     "data": {
      "image/png": "[encoded data removed]",
      "text/plain": [
       "<Figure size 4000x400 with 10 Axes>"
      ]
     },
     "metadata": {},
     "output_type": "display_data"
    }
   ],
   "source": [
    "import matplotlib.pyplot as plt\n",
    "\n",
    "num_features = 10  # Número de features que quieres visualizar\n",
    "fig, axes = plt.subplots(1, num_features, figsize=(4 * num_features, 4))\n",
    "\n",
    "for i in range(num_features):\n",
    "    axes[i].hist(X_train[y_train == 0][:, i], alpha=0.5, label='Real (0)', color='blue')\n",
    "    axes[i].hist(X_train[y_train == 1][:, i], alpha=0.5, label='Fake (1)', color='orange')\n",
    "    axes[i].set_title(f'Feature {i}')\n",
    "    axes[i].legend()\n",
    "\n",
    "plt.tight_layout()\n",
    "plt.show()"
   ]
  },
  {
   "cell_type": "markdown",
   "id": "6ca98494",
   "metadata": {},
   "source": [
    "# TEST"
   ]
  },
  {
   "cell_type": "code",
   "execution_count": 90,
   "id": "d3e91f42",
   "metadata": {},
   "outputs": [],
   "source": [
    "from sklearn.metrics import confusion_matrix, ConfusionMatrixDisplay\n",
    "import seaborn as sns\n",
    "import matplotlib.pyplot as plt"
   ]
  },
  {
   "cell_type": "code",
   "execution_count": 91,
   "id": "f38d1b4f",
   "metadata": {},
   "outputs": [],
   "source": [
    "X_test_scaled = scaler.transform(X_test)"
   ]
  },
  {
   "cell_type": "markdown",
   "id": "5672137b",
   "metadata": {},
   "source": [
    "## Logistic Regression"
   ]
  },
  {
   "cell_type": "code",
   "execution_count": 92,
   "id": "59769943",
   "metadata": {},
   "outputs": [
    {
     "name": "stdout",
     "output_type": "stream",
     "text": [
      "\n",
      "🔹 Evaluación en TEST:\n",
      "              precision    recall  f1-score   support\n",
      "\n",
      "           0       0.00      0.00      0.00        12\n",
      "           1       0.73      0.89      0.80        36\n",
      "\n",
      "    accuracy                           0.67        48\n",
      "   macro avg       0.36      0.44      0.40        48\n",
      "weighted avg       0.55      0.67      0.60        48\n",
      "\n"
     ]
    },
    {
     "data": {
      "image/png": "[encoded data removed]",
      "text/plain": [
       "<Figure size 400x400 with 2 Axes>"
      ]
     },
     "metadata": {},
     "output_type": "display_data"
    }
   ],
   "source": [
    "y_pred_test = lr.predict(X_test_scaled)\n",
    "\n",
    "print(\"\\n🔹 Evaluación en TEST:\")\n",
    "print(classification_report(y_test, y_pred_test))\n",
    "\n",
    "cm = confusion_matrix(y_test, y_pred_test)\n",
    "\n",
    "plt.figure(figsize=(4, 4))\n",
    "sns.heatmap(cm, annot=True, fmt=\"d\", cmap=\"Blues\", xticklabels=[0, 1], yticklabels=[0, 1])\n",
    "plt.xlabel(\"Predicted label\")\n",
    "plt.ylabel(\"True label\")\n",
    "plt.title(\"Matriz de Confusión - Test\")\n",
    "plt.tight_layout()\n",
    "plt.show()"
   ]
  },
  {
   "cell_type": "markdown",
   "id": "ed5b82be",
   "metadata": {},
   "source": [
    "## KN Neighbors"
   ]
  },
  {
   "cell_type": "code",
   "execution_count": 93,
   "id": "91ccf740",
   "metadata": {},
   "outputs": [
    {
     "name": "stdout",
     "output_type": "stream",
     "text": [
      "\n",
      "🔹 Evaluación en TEST:\n",
      "              precision    recall  f1-score   support\n",
      "\n",
      "           0       0.54      0.58      0.56        12\n",
      "           1       0.86      0.83      0.85        36\n",
      "\n",
      "    accuracy                           0.77        48\n",
      "   macro avg       0.70      0.71      0.70        48\n",
      "weighted avg       0.78      0.77      0.77        48\n",
      "\n"
     ]
    },
    {
     "data": {
      "image/png": "[encoded data removed]",
      "text/plain": [
       "<Figure size 400x400 with 2 Axes>"
      ]
     },
     "metadata": {},
     "output_type": "display_data"
    }
   ],
   "source": [
    "y_pred_test = knn.predict(X_test_scaled)\n",
    "\n",
    "print(\"\\n🔹 Evaluación en TEST:\")\n",
    "print(classification_report(y_test, y_pred_test))\n",
    "\n",
    "cm = confusion_matrix(y_test, y_pred_test)\n",
    "\n",
    "plt.figure(figsize=(4, 4))\n",
    "sns.heatmap(cm, annot=True, fmt=\"d\", cmap=\"Blues\", xticklabels=[0, 1], yticklabels=[0, 1])\n",
    "plt.xlabel(\"Predicted label\")\n",
    "plt.ylabel(\"True label\")\n",
    "plt.title(\"Matriz de Confusión - Test\")\n",
    "plt.tight_layout()\n",
    "plt.show()"
   ]
  },
  {
   "cell_type": "markdown",
   "id": "822c47bb",
   "metadata": {},
   "source": [
    "## Random Forest"
   ]
  },
  {
   "cell_type": "code",
   "execution_count": 94,
   "id": "07da547e",
   "metadata": {},
   "outputs": [
    {
     "name": "stdout",
     "output_type": "stream",
     "text": [
      "\n",
      "🔹 Evaluación en TEST:\n",
      "              precision    recall  f1-score   support\n",
      "\n",
      "           0       0.50      0.17      0.25        12\n",
      "           1       0.77      0.94      0.85        36\n",
      "\n",
      "    accuracy                           0.75        48\n",
      "   macro avg       0.64      0.56      0.55        48\n",
      "weighted avg       0.70      0.75      0.70        48\n",
      "\n"
     ]
    },
    {
     "data": {
      "image/png": "[encoded data removed]",
      "text/plain": [
       "<Figure size 400x400 with 2 Axes>"
      ]
     },
     "metadata": {},
     "output_type": "display_data"
    }
   ],
   "source": [
    "y_pred_test = rf.predict(X_test_scaled)\n",
    "\n",
    "print(\"\\n🔹 Evaluación en TEST:\")\n",
    "print(classification_report(y_test, y_pred_test))\n",
    "\n",
    "cm = confusion_matrix(y_test, y_pred_test)\n",
    "\n",
    "plt.figure(figsize=(4, 4))\n",
    "sns.heatmap(cm, annot=True, fmt=\"d\", cmap=\"Blues\", xticklabels=[0, 1], yticklabels=[0, 1])\n",
    "plt.xlabel(\"Predicted label\")\n",
    "plt.ylabel(\"True label\")\n",
    "plt.title(\"Matriz de Confusión - Test\")\n",
    "plt.tight_layout()\n",
    "plt.show()"
   ]
  },
  {
   "cell_type": "markdown",
   "id": "a88e97ee",
   "metadata": {},
   "source": [
    "## SVM"
   ]
  },
  {
   "cell_type": "code",
   "execution_count": null,
   "id": "9feb393b",
   "metadata": {},
   "outputs": [
    {
     "name": "stdout",
     "output_type": "stream",
     "text": [
      "\n",
      "🔹 Evaluación en TEST:\n",
      "              precision    recall  f1-score   support\n",
      "\n",
      "           0       0.00      0.00      0.00        12\n",
      "           1       0.75      1.00      0.86        36\n",
      "\n",
      "    accuracy                           0.75        48\n",
      "   macro avg       0.38      0.50      0.43        48\n",
      "weighted avg       0.56      0.75      0.64        48\n",
      "\n"
     ]
    },
    {
     "name": "stderr",
     "output_type": "stream",
     "text": [
      "c:\\Users\\JUAN\\AppData\\Local\\Programs\\Python\\Python311\\Lib\\site-packages\\sklearn\\metrics\\_classification.py:1531: UndefinedMetricWarning: Precision is ill-defined and being set to 0.0 in labels with no predicted samples. Use `zero_division` parameter to control this behavior.\n",
      "  _warn_prf(average, modifier, f\"{metric.capitalize()} is\", len(result))\n",
      "c:\\Users\\JUAN\\AppData\\Local\\Programs\\Python\\Python311\\Lib\\site-packages\\sklearn\\metrics\\_classification.py:1531: UndefinedMetricWarning: Precision is ill-defined and being set to 0.0 in labels with no predicted samples. Use `zero_division` parameter to control this behavior.\n",
      "  _warn_prf(average, modifier, f\"{metric.capitalize()} is\", len(result))\n",
      "c:\\Users\\JUAN\\AppData\\Local\\Programs\\Python\\Python311\\Lib\\site-packages\\sklearn\\metrics\\_classification.py:1531: UndefinedMetricWarning: Precision is ill-defined and being set to 0.0 in labels with no predicted samples. Use `zero_division` parameter to control this behavior.\n",
      "  _warn_prf(average, modifier, f\"{metric.capitalize()} is\", len(result))\n"
     ]
    },
    {
     "data": {
      "image/png": "[encoded data removed]",
      "text/plain": [
       "<Figure size 400x400 with 2 Axes>"
      ]
     },
     "metadata": {},
     "output_type": "display_data"
    }
   ],
   "source": [
    "y_pred_test = svm.predict(X_test_scaled)\n",
    "\n",
    "print(\"\\n🔹 Evaluación en TEST:\")\n",
    "print(classification_report(y_test, y_pred_test,zero_division=0.0))\n",
    "\n",
    "cm = confusion_matrix(y_test, y_pred_test)\n",
    "\n",
    "plt.figure(figsize=(4, 4))\n",
    "sns.heatmap(cm, annot=True, fmt=\"d\", cmap=\"Blues\", xticklabels=[0, 1], yticklabels=[0, 1])\n",
    "plt.xlabel(\"Predicted label\")\n",
    "plt.ylabel(\"True label\")\n",
    "plt.title(\"Matriz de Confusión - Test\")\n",
    "plt.tight_layout()\n",
    "plt.show()"
   ]
  },
  {
   "cell_type": "markdown",
   "id": "b7c355cb",
   "metadata": {},
   "source": [
    "## Red Neuronal"
   ]
  },
  {
   "cell_type": "code",
   "execution_count": 96,
   "id": "35e37fae",
   "metadata": {},
   "outputs": [
    {
     "name": "stdout",
     "output_type": "stream",
     "text": [
      "\n",
      "🔹 Evaluación en TEST:\n",
      "              precision    recall  f1-score   support\n",
      "\n",
      "           0       0.00      0.00      0.00        12\n",
      "           1       0.75      1.00      0.86        36\n",
      "\n",
      "    accuracy                           0.75        48\n",
      "   macro avg       0.38      0.50      0.43        48\n",
      "weighted avg       0.56      0.75      0.64        48\n",
      "\n"
     ]
    },
    {
     "data": {
      "image/png": "[encoded data removed]",
      "text/plain": [
       "<Figure size 400x400 with 2 Axes>"
      ]
     },
     "metadata": {},
     "output_type": "display_data"
    }
   ],
   "source": [
    "X_test_tensor = torch.tensor(X_test_scaled, dtype=torch.float32)\n",
    "y_test_tensor = torch.tensor(y_test.reshape(-1, 1), dtype=torch.float32)\n",
    "\n",
    "with torch.no_grad():\n",
    "    outputs_test = model(X_test_tensor)\n",
    "    probs_test = torch.sigmoid(outputs_test).numpy()\n",
    "    y_pred_test = (probs_test > 0.5).astype(int).flatten()\n",
    "\n",
    "print(\"\\n🔹 Evaluación en TEST:\")\n",
    "print(classification_report(y_test, y_pred_test, zero_division=0.0))\n",
    "\n",
    "cm = confusion_matrix(y_test, y_pred_test)\n",
    "\n",
    "plt.figure(figsize=(4, 4))\n",
    "sns.heatmap(cm, annot=True, fmt=\"d\", cmap=\"Blues\", xticklabels=[0, 1], yticklabels=[0, 1])\n",
    "plt.xlabel(\"Predicted\")\n",
    "plt.ylabel(\"True\")\n",
    "plt.title(\"Matriz de Confusión - Red Neuronal (Test)\")\n",
    "plt.tight_layout()\n",
    "plt.show()"
   ]
  }
 ],
 "metadata": {
  "kernelspec": {
   "display_name": "Python 3",
   "language": "python",
   "name": "python3"
  },
  "language_info": {
   "codemirror_mode": {
    "name": "ipython",
    "version": 3
   },
   "file_extension": ".py",
   "mimetype": "text/x-python",
   "name": "python",
   "nbconvert_exporter": "python",
   "pygments_lexer": "ipython3",
   "version": "3.11.9"
  }
 },
 "nbformat": 4,
 "nbformat_minor": 5
}
