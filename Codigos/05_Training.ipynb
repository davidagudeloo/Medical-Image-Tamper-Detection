{
 "cells": [
  {
   "cell_type": "markdown",
   "id": "c7a9faee",
   "metadata": {},
   "source": [
    "# 📊 Entrenamiento y Validación de Modelos\n",
    "\n",
    "En esta fase se desarrolla el núcleo del proyecto de detección de imágenes médicas manipuladas. Aquí se construyen, entrenan y evalúan múltiples modelos de machine learning para abordar el problema como una clasificación binaria. La tarea consiste en identificar si una imagen médica ha sido manipulada o no, utilizando las características extraídas previamente.\n",
    "\n",
    "Se implementan técnicas para dividir el dataset en conjuntos de **entrenamiento, validación y prueba**, lo que permite evaluar el rendimiento de los modelos y evitar problemas como el overfitting. Además, se utilizan métricas de clasificación y visualizaciones para analizar los resultados.\n",
    "\n",
    "---\n",
    "\n",
    "## 🧠 Modelos implementados / Models implemented\n",
    "Se probaron diferentes algoritmos para comparar su rendimiento:\n",
    "\n",
    "- ✅ **Logistic Regression**\n",
    "- ✅ **K-Nearest Neighbors (KNN)**\n",
    "- ✅ **Random Forest**\n",
    "- ✅ **Support Vector Machines (SVM)**\n",
    "- ✅ **Multilayer Neural Network**\n",
    "\n",
    "Cada modelo fue entrenado con los datos seleccionados en la fase anterior y evaluado usando técnicas de validación cruzada y partición estratificada de datos.\n",
    "\n",
    "---\n",
    "\n",
    "## 📦 Output esperado / Expected Output\n",
    "\n",
    "- ✅ Reportes de desempeño de cada modelo (métricas como precisión, recall, F1-score, AUC-ROC)."
   ]
  },
  {
   "cell_type": "code",
   "execution_count": 84,
   "id": "8110044b",
   "metadata": {},
   "outputs": [],
   "source": [
    "import numpy as np\n",
    "import pandas as pd\n",
    "from sklearn.model_selection import train_test_split\n",
    "from sklearn.linear_model import LogisticRegression\n",
    "from sklearn.preprocessing import StandardScaler\n",
    "from sklearn.model_selection import GridSearchCV, LeaveOneOut, GroupKFold, GroupShuffleSplit\n",
    "from sklearn.utils.class_weight import compute_class_weight\n",
    "from sklearn.metrics import classification_report\n",
    "from sklearn.feature_selection import VarianceThreshold, SelectKBest, f_classif\n",
    "from sklearn.neighbors import KNeighborsClassifier\n",
    "from sklearn.ensemble import RandomForestClassifier\n",
    "from sklearn.svm import SVC\n",
    "import torch\n",
    "import torch.nn as nn\n",
    "import torch.optim as optim\n"
   ]
  },
  {
   "cell_type": "code",
   "execution_count": 85,
   "id": "e47cdc66",
   "metadata": {},
   "outputs": [
    {
     "name": "stdout",
     "output_type": "stream",
     "text": [
      "Shape X: (474, 30)\n",
      "Shape y: (474,)\n",
      "Shape groups: (474,)\n"
     ]
    }
   ],
   "source": [
    "# Cargar el archivo\n",
    "data = np.load(\"data.npz\")\n",
    "\n",
    "# Acceder a los arrays\n",
    "X = data['X']\n",
    "y = data['y']\n",
    "groups = data['groups']\n",
    "\n",
    "print(f\"Shape X: {X.shape}\")\n",
    "print(f\"Shape y: {y.shape}\")\n",
    "print(f\"Shape groups: {groups.shape}\")"
   ]
  },
  {
   "cell_type": "markdown",
   "id": "cc14fad7",
   "metadata": {},
   "source": [
    "# Split forma 1"
   ]
  },
  {
   "cell_type": "code",
   "execution_count": 86,
   "id": "d74faec3",
   "metadata": {},
   "outputs": [
    {
     "name": "stdout",
     "output_type": "stream",
     "text": [
      "Train: (360, 30), Val: (69, 30), Test: (45, 30)\n"
     ]
    }
   ],
   "source": [
    "# Supongamos que tienes:\n",
    "# X: tus features\n",
    "# y: tus labels\n",
    "# groups: el array de uuid por cada muestra (debe tener misma longitud que X)\n",
    "\n",
    "# 🔹 Primer split: 90% Train+Val, 10% Test\n",
    "gss = GroupShuffleSplit(n_splits=1, test_size=0.1, random_state=42)\n",
    "train_val_idx, test_idx = next(gss.split(X, y, groups=groups))\n",
    "\n",
    "X_train_val, X_test = X[train_val_idx], X[test_idx]\n",
    "y_train_val, y_test = y[train_val_idx], y[test_idx]\n",
    "groups_train_val = groups[train_val_idx]\n",
    "\n",
    "# 🔹 Segundo split: 90% Train, 10% Validación dentro del 90% que quedó\n",
    "gss_inner = GroupShuffleSplit(n_splits=1, test_size=0.2, random_state=42)\n",
    "train_idx, val_idx = next(gss_inner.split(X_train_val, y_train_val, groups=groups_train_val))\n",
    "\n",
    "X_train, X_val = X_train_val[train_idx], X_train_val[val_idx]\n",
    "y_train, y_val = y_train_val[train_idx], y_train_val[val_idx]\n",
    "groups_train = groups_train_val[train_idx]\n",
    "groups_val = groups_train_val[val_idx]\n",
    "\n",
    "print(f\"Train: {X_train.shape}, Val: {X_val.shape}, Test: {X_test.shape}\")"
   ]
  },
  {
   "cell_type": "code",
   "execution_count": 87,
   "id": "0d6809f3",
   "metadata": {},
   "outputs": [
    {
     "name": "stdout",
     "output_type": "stream",
     "text": [
      "Conteo de clases en y_train:\n",
      "Clase 0: 99 muestras\n",
      "Clase 1: 261 muestras\n",
      "Conteo de clases en y_val:\n",
      "Clase 0: 30 muestras\n",
      "Clase 1: 39 muestras\n",
      "Conteo de clases en y_test:\n",
      "Clase 0: 6 muestras\n",
      "Clase 1: 39 muestras\n"
     ]
    }
   ],
   "source": [
    "# Conteo de clases\n",
    "unique, counts = np.unique(y_train, return_counts=True)\n",
    "print(\"Conteo de clases en y_train:\")\n",
    "for cls, cnt in zip(unique, counts):\n",
    "    print(f\"Clase {cls}: {cnt} muestras\")\n",
    "\n",
    "# Conteo de clases\n",
    "unique, counts = np.unique(y_val, return_counts=True)\n",
    "print(\"Conteo de clases en y_val:\")\n",
    "for cls, cnt in zip(unique, counts):\n",
    "    print(f\"Clase {cls}: {cnt} muestras\")\n",
    "\n",
    "# Conteo de clases\n",
    "unique, counts = np.unique(y_test, return_counts=True)\n",
    "print(\"Conteo de clases en y_test:\")\n",
    "for cls, cnt in zip(unique, counts):\n",
    "    print(f\"Clase {cls}: {cnt} muestras\")"
   ]
  },
  {
   "cell_type": "markdown",
   "id": "a9670fdd",
   "metadata": {},
   "source": [
    "# Logistic Regression"
   ]
  },
  {
   "cell_type": "code",
   "execution_count": 88,
   "id": "a70432d6",
   "metadata": {},
   "outputs": [
    {
     "name": "stdout",
     "output_type": "stream",
     "text": [
      "🔍 Mejor combinación de hiperparámetros: {'C': 0.01, 'penalty': 'l2', 'solver': 'lbfgs'}\n",
      "📈 Mejor F1-score (CV): 0.8357\n",
      "✅ Accuracy medio: 0.7222\n",
      "✅ Recall medio:   0.9967\n"
     ]
    }
   ],
   "source": [
    "# GroupKFold\n",
    "gkf = GroupKFold(n_splits=5)\n",
    "\n",
    "\n",
    "# Escalar manualmente\n",
    "scaler = StandardScaler()\n",
    "X_scaled = scaler.fit_transform(X_train)\n",
    "\n",
    "\n",
    "\n",
    "# Modelo base\n",
    "lr = LogisticRegression(max_iter=1000)\n",
    "\n",
    "# Definir grilla de hiperparámetros\n",
    "param_grid = {\n",
    "    'C': [0.01, 0.1, 1, 10, 100],             # Regularización\n",
    "    'solver': ['lbfgs', 'liblinear'],         # Algoritmos\n",
    "    'penalty': ['l2']                         # Tipo de penalización (solo 'l2' es compatible con lbfgs y liblinear)\n",
    "}\n",
    "\n",
    "# Métricas para evaluar\n",
    "scoring = {\n",
    "    'accuracy': 'accuracy',\n",
    "    'recall': 'recall',\n",
    "    'f1': 'f1'\n",
    "}\n",
    "\n",
    "grid = GridSearchCV(estimator=lr, param_grid=param_grid, cv=gkf,\n",
    "                    scoring=scoring, refit='f1', return_train_score=False)\n",
    "\n",
    "# Entrenar\n",
    "grid.fit(X_scaled, y_train, groups=groups_train)\n",
    "\n",
    "# Resultados\n",
    "print(\"🔍 Mejor combinación de hiperparámetros:\", grid.best_params_)\n",
    "print(f\"📈 Mejor F1-score (CV): {grid.best_score_:.4f}\")\n",
    "\n",
    "# Puedes imprimir más métricas si deseas:\n",
    "means = grid.cv_results_\n",
    "print(f\"✅ Accuracy medio: {means['mean_test_accuracy'][grid.best_index_]:.4f}\")\n",
    "print(f\"✅ Recall medio:   {means['mean_test_recall'][grid.best_index_]:.4f}\")"
   ]
  },
  {
   "cell_type": "code",
   "execution_count": 89,
   "id": "fff216dd",
   "metadata": {},
   "outputs": [
    {
     "name": "stdout",
     "output_type": "stream",
     "text": [
      "🔹 Evaluación en TRAIN:\n",
      "              precision    recall  f1-score   support\n",
      "\n",
      "        Real       0.67      0.04      0.08        99\n",
      "        Fake       0.73      0.99      0.84       261\n",
      "\n",
      "    accuracy                           0.73       360\n",
      "   macro avg       0.70      0.52      0.46       360\n",
      "weighted avg       0.71      0.73      0.63       360\n",
      "\n",
      "\n",
      "🔹 Evaluación en VALIDACIÓN:\n",
      "              precision    recall  f1-score   support\n",
      "\n",
      "        Real       0.00      0.00      0.00        30\n",
      "        Fake       0.57      1.00      0.72        39\n",
      "\n",
      "    accuracy                           0.57        69\n",
      "   macro avg       0.28      0.50      0.36        69\n",
      "weighted avg       0.32      0.57      0.41        69\n",
      "\n"
     ]
    }
   ],
   "source": [
    "\n",
    "# 2. Escalado y selección de características\n",
    "scaler = StandardScaler()\n",
    "X_train_scaled = scaler.fit_transform(X_train)\n",
    "X_val_scaled = scaler.transform(X_val)\n",
    "\n",
    "# 4. Modelo con ajuste fino\n",
    "lr = LogisticRegression(\n",
    "    C=0.1,                   # Mayor regularización\n",
    "    penalty='l2',\n",
    "    solver='liblinear',\n",
    "    max_iter=1000,           # Más iteraciones para convergencia\n",
    "    random_state=42\n",
    ")\n",
    "\n",
    "# 5. Entrenamiento y evaluación\n",
    "lr.fit(X_train_scaled, y_train)\n",
    "\n",
    "print(\"🔹 Evaluación en TRAIN:\")\n",
    "print(classification_report(y_train, lr.predict(X_train_scaled), target_names=[\"Real\", \"Fake\"], zero_division=0.0))\n",
    "\n",
    "print(\"\\n🔹 Evaluación en VALIDACIÓN:\")\n",
    "y_pred_val = lr.predict(X_val_scaled)\n",
    "print(classification_report(y_val, y_pred_val, target_names=[\"Real\", \"Fake\"], zero_division=0.0))"
   ]
  },
  {
   "cell_type": "markdown",
   "id": "7ed52f4a",
   "metadata": {},
   "source": [
    "# Knn Neighbors"
   ]
  },
  {
   "cell_type": "code",
   "execution_count": 90,
   "id": "dc73de64",
   "metadata": {},
   "outputs": [
    {
     "name": "stdout",
     "output_type": "stream",
     "text": [
      "Fitting 360 folds for each of 6 candidates, totalling 2160 fits\n",
      "🔍 Mejor combinación de hiperparámetros: {'metric': 'euclidean', 'n_neighbors': 5, 'weights': 'uniform'}\n",
      "📈 Mejor F1-score (CV): 0.6861\n",
      "✅ Accuracy medio:       0.8389\n",
      "✅ Recall medio:         0.6861\n"
     ]
    }
   ],
   "source": [
    "# Leave-One-Out\n",
    "loo = LeaveOneOut()\n",
    "\n",
    "# Escalar\n",
    "scaler = StandardScaler()\n",
    "X_scaled = scaler.fit_transform(X_train)\n",
    "X_val_scaled = scaler.transform(X_val)\n",
    "\n",
    "# Modelo base\n",
    "knn = KNeighborsClassifier()\n",
    "\n",
    "# Grilla de hiperparámetros\n",
    "param_grid = {\n",
    "    'n_neighbors': [5, 10, 15],\n",
    "    'weights': ['uniform'],\n",
    "    'metric': ['euclidean', 'manhattan']\n",
    "}\n",
    "\n",
    "# Scoring múltiple\n",
    "scoring = {\n",
    "    'accuracy': 'accuracy',\n",
    "    'recall': 'recall',\n",
    "    'f1': 'f1'\n",
    "}\n",
    "\n",
    "# GridSearch con LOO\n",
    "grid = GridSearchCV(\n",
    "    estimator=knn,\n",
    "    param_grid=param_grid,\n",
    "    scoring=scoring,\n",
    "    refit='f1',  # el mejor se elige por f1\n",
    "    cv=loo,\n",
    "    n_jobs=-1,\n",
    "    verbose=1\n",
    ")\n",
    "\n",
    "# Entrenar\n",
    "grid.fit(X_scaled, y_train)\n",
    "\n",
    "best_params = grid.best_params_\n",
    "\n",
    "\n",
    "# Resultados\n",
    "print(\"🔍 Mejor combinación de hiperparámetros:\", grid.best_params_)\n",
    "print(f\"📈 Mejor F1-score (CV): {grid.cv_results_['mean_test_f1'][grid.best_index_]:.4f}\")\n",
    "print(f\"✅ Accuracy medio:       {grid.cv_results_['mean_test_accuracy'][grid.best_index_]:.4f}\")\n",
    "print(f\"✅ Recall medio:         {grid.cv_results_['mean_test_recall'][grid.best_index_]:.4f}\")"
   ]
  },
  {
   "cell_type": "code",
   "execution_count": 91,
   "id": "5e6cecc7",
   "metadata": {},
   "outputs": [
    {
     "name": "stdout",
     "output_type": "stream",
     "text": [
      "🔹 Evaluación en TRAIN:\n",
      "              precision    recall  f1-score   support\n",
      "\n",
      "           0       0.87      0.66      0.75        99\n",
      "           1       0.88      0.96      0.92       261\n",
      "\n",
      "    accuracy                           0.88       360\n",
      "   macro avg       0.87      0.81      0.83       360\n",
      "weighted avg       0.88      0.88      0.87       360\n",
      "\n",
      "\n",
      "🔹 Evaluación en VALIDACIÓN:\n",
      "              precision    recall  f1-score   support\n",
      "\n",
      "           0       0.55      0.20      0.29        30\n",
      "           1       0.59      0.87      0.70        39\n",
      "\n",
      "    accuracy                           0.58        69\n",
      "   macro avg       0.57      0.54      0.50        69\n",
      "weighted avg       0.57      0.58      0.52        69\n",
      "\n"
     ]
    }
   ],
   "source": [
    "knn = KNeighborsClassifier(\n",
    "    n_neighbors=best_params['n_neighbors'],\n",
    "    weights=best_params['weights'],\n",
    "    metric=best_params['metric']\n",
    ")\n",
    "knn.fit(X_scaled, y_train)\n",
    "\n",
    "# 5. Evaluación\n",
    "print(\"🔹 Evaluación en TRAIN:\")\n",
    "print(classification_report(y_train, knn.predict(X_scaled)))\n",
    "\n",
    "print(\"\\n🔹 Evaluación en VALIDACIÓN:\")\n",
    "print(classification_report(y_val, knn.predict(X_val_scaled)))\n"
   ]
  },
  {
   "cell_type": "markdown",
   "id": "99b45e97",
   "metadata": {},
   "source": [
    "# Random Forest"
   ]
  },
  {
   "cell_type": "code",
   "execution_count": 92,
   "id": "0c44fea0",
   "metadata": {},
   "outputs": [
    {
     "name": "stdout",
     "output_type": "stream",
     "text": [
      "Fitting 5 folds for each of 24 candidates, totalling 120 fits\n",
      "🔍 Mejor combinación de hiperparámetros: {'max_depth': 5, 'min_samples_leaf': 2, 'min_samples_split': 5, 'n_estimators': 200}\n",
      "📈 Mejor F1-score (CV): 0.7974\n",
      "✅ Accuracy medio:       0.6667\n",
      "✅ Recall medio:         0.9192\n"
     ]
    }
   ],
   "source": [
    "# GroupKFold\n",
    "gkf = GroupKFold(n_splits=5)\n",
    "\n",
    "\n",
    "# Escalar\n",
    "scaler = StandardScaler()\n",
    "X_scaled = scaler.fit_transform(X_train)\n",
    "X_val_scaled = scaler.transform(X_val)\n",
    "\n",
    "# Definir modelo base\n",
    "rf = RandomForestClassifier(random_state=42)\n",
    "\n",
    "# Definir la grilla de hiperparámetros\n",
    "param_grid = {\n",
    "    'n_estimators': [100, 200],\n",
    "    'max_depth': [5, 10, 15],\n",
    "    'min_samples_split': [2, 5],\n",
    "    'min_samples_leaf': [1, 2]\n",
    "}\n",
    "\n",
    "scoring = {\n",
    "    'accuracy': 'accuracy',\n",
    "    'recall': 'recall',\n",
    "    'f1': 'f1'\n",
    "}\n",
    "\n",
    "# Crear GridSearchCV\n",
    "grid = GridSearchCV(\n",
    "    estimator=rf,\n",
    "    param_grid=param_grid,\n",
    "    scoring=scoring,  # también puedes usar 'recall' si priorizas eso\n",
    "    cv=gkf,\n",
    "    refit='f1',  # el mejor se elige por f1\n",
    "    n_jobs=-1,\n",
    "    verbose=1\n",
    ")\n",
    "\n",
    "\n",
    "# Ejecutar búsqueda\n",
    "grid.fit(X_scaled, y_train, groups=groups_train)\n",
    "best_params = grid.best_params_\n",
    "\n",
    "# Resultados\n",
    "print(\"🔍 Mejor combinación de hiperparámetros:\", grid.best_params_)\n",
    "print(f\"📈 Mejor F1-score (CV): {grid.cv_results_['mean_test_f1'][grid.best_index_]:.4f}\")\n",
    "print(f\"✅ Accuracy medio:       {grid.cv_results_['mean_test_accuracy'][grid.best_index_]:.4f}\")\n",
    "print(f\"✅ Recall medio:         {grid.cv_results_['mean_test_recall'][grid.best_index_]:.4f}\")"
   ]
  },
  {
   "cell_type": "code",
   "execution_count": 93,
   "id": "71002ea9",
   "metadata": {},
   "outputs": [
    {
     "name": "stdout",
     "output_type": "stream",
     "text": [
      "🔹 Evaluación en TRAIN:\n",
      "              precision    recall  f1-score   support\n",
      "\n",
      "           0       0.98      0.53      0.68        99\n",
      "           1       0.85      1.00      0.92       261\n",
      "\n",
      "    accuracy                           0.87       360\n",
      "   macro avg       0.91      0.76      0.80       360\n",
      "weighted avg       0.88      0.87      0.85       360\n",
      "\n",
      "🔹 Evaluación en VALIDACIÓN:\n",
      "              precision    recall  f1-score   support\n",
      "\n",
      "           0       0.00      0.00      0.00        30\n",
      "           1       0.57      1.00      0.72        39\n",
      "\n",
      "    accuracy                           0.57        69\n",
      "   macro avg       0.28      0.50      0.36        69\n",
      "weighted avg       0.32      0.57      0.41        69\n",
      "\n"
     ]
    }
   ],
   "source": [
    "# 2. Escalar los datos\n",
    "scaler = StandardScaler()\n",
    "X_train_scaled = scaler.fit_transform(X_train)\n",
    "X_val_scaled = scaler.transform(X_val)\n",
    "\n",
    "# 3. Crear y entrenar modelo\n",
    "rf = RandomForestClassifier(\n",
    "    max_depth= best_params['max_depth'], \n",
    "    min_samples_leaf= best_params['min_samples_leaf'],\n",
    "    min_samples_split= best_params['min_samples_split'], \n",
    "    n_estimators = best_params['n_estimators'], \n",
    "    random_state=42\n",
    "    )\n",
    "rf.fit(X_train_scaled, y_train)\n",
    "\n",
    "# 4. Evaluar en entrenamiento y validación\n",
    "print(\"🔹 Evaluación en TRAIN:\")\n",
    "print(classification_report(y_train, rf.predict(X_train_scaled),zero_division=0))\n",
    "\n",
    "print(\"🔹 Evaluación en VALIDACIÓN:\")\n",
    "print(classification_report(y_val, rf.predict(X_val_scaled),zero_division=0))\n"
   ]
  },
  {
   "cell_type": "markdown",
   "id": "d63983ef",
   "metadata": {},
   "source": [
    "# SVM"
   ]
  },
  {
   "cell_type": "code",
   "execution_count": 94,
   "id": "ac0123c9",
   "metadata": {},
   "outputs": [
    {
     "name": "stdout",
     "output_type": "stream",
     "text": [
      "Fitting 5 folds for each of 54 candidates, totalling 270 fits\n",
      "🔍 Mejor combinación de hiperparámetros: {'C': 0.1, 'degree': 2, 'gamma': 'scale', 'kernel': 'linear'}\n",
      "📈 Mejor F1-score (CV): 0.8374\n",
      "✅ Accuracy medio:       0.7250\n",
      "✅ Recall medio:         1.0000\n"
     ]
    }
   ],
   "source": [
    "# GroupKFold\n",
    "gkf = GroupKFold(n_splits=5)\n",
    "\n",
    "# Escalar\n",
    "scaler = StandardScaler()\n",
    "X_scaled = scaler.fit_transform(X_train)\n",
    "X_val_scaled = scaler.transform(X_val)\n",
    "\n",
    "# Definir modelo\n",
    "svm = SVC(random_state=42)\n",
    "\n",
    "# Grilla de hiperparámetros\n",
    "param_grid = {\n",
    "        'kernel': ['linear','rbf', 'poly' ],\n",
    "        'C': [0.1, 1, 10],\n",
    "        'degree': [2, 3],\n",
    "        'gamma': ['scale', 0.01, 0.1]\n",
    "    }\n",
    "\n",
    "# Métricas\n",
    "scoring = {\n",
    "    'accuracy': 'accuracy',\n",
    "    'recall': 'recall',\n",
    "    'f1': 'f1'\n",
    "}\n",
    "\n",
    "# GridSearchCV\n",
    "grid = GridSearchCV(\n",
    "    estimator=svm,\n",
    "    param_grid=param_grid,\n",
    "    scoring=scoring,\n",
    "    refit='f1',\n",
    "    cv=gkf,\n",
    "    n_jobs=-1,\n",
    "    verbose=1\n",
    ")\n",
    "\n",
    "# Ajustar\n",
    "grid.fit(X_scaled, y_train, groups=groups_train)\n",
    "best_params = grid.best_params_\n",
    "\n",
    "# Resultados\n",
    "print(\"🔍 Mejor combinación de hiperparámetros:\", grid.best_params_)\n",
    "print(f\"📈 Mejor F1-score (CV): {grid.cv_results_['mean_test_f1'][grid.best_index_]:.4f}\")\n",
    "print(f\"✅ Accuracy medio:       {grid.cv_results_['mean_test_accuracy'][grid.best_index_]:.4f}\")\n",
    "print(f\"✅ Recall medio:         {grid.cv_results_['mean_test_recall'][grid.best_index_]:.4f}\")"
   ]
  },
  {
   "cell_type": "code",
   "execution_count": 95,
   "id": "c8299c52",
   "metadata": {},
   "outputs": [
    {
     "name": "stdout",
     "output_type": "stream",
     "text": [
      "🔹 Evaluación en TRAIN:\n",
      "              precision    recall  f1-score   support\n",
      "\n",
      "           0       1.00      0.01      0.02        99\n",
      "           1       0.73      1.00      0.84       261\n",
      "\n",
      "    accuracy                           0.73       360\n",
      "   macro avg       0.86      0.51      0.43       360\n",
      "weighted avg       0.80      0.73      0.62       360\n",
      "\n",
      "🔹 Evaluación en VALIDACIÓN:\n",
      "              precision    recall  f1-score   support\n",
      "\n",
      "           0       0.00      0.00      0.00        30\n",
      "           1       0.57      1.00      0.72        39\n",
      "\n",
      "    accuracy                           0.57        69\n",
      "   macro avg       0.28      0.50      0.36        69\n",
      "weighted avg       0.32      0.57      0.41        69\n",
      "\n"
     ]
    }
   ],
   "source": [
    "# 3. Crear y entrenar modelo\n",
    "svm = SVC(\n",
    "    C=best_params['C'], \n",
    "    kernel=best_params['kernel'], \n",
    "    gamma=best_params['gamma'], \n",
    "    degree = best_params['degree'], \n",
    "    random_state=42\n",
    "    )\n",
    "svm.fit(X_train_scaled, y_train)\n",
    "\n",
    "# 4. Evaluar en entrenamiento y validación\n",
    "print(\"🔹 Evaluación en TRAIN:\")\n",
    "print(classification_report(y_train, svm.predict(X_train_scaled), zero_division=0.0))\n",
    "\n",
    "print(\"🔹 Evaluación en VALIDACIÓN:\")\n",
    "print(classification_report(y_val, svm.predict(X_val_scaled), zero_division=0.0))\n"
   ]
  },
  {
   "cell_type": "markdown",
   "id": "b6efea9a",
   "metadata": {},
   "source": [
    "# Neural Network"
   ]
  },
  {
   "cell_type": "code",
   "execution_count": 96,
   "id": "964dbdfa",
   "metadata": {},
   "outputs": [
    {
     "name": "stdout",
     "output_type": "stream",
     "text": [
      "🔹 Evaluación en TRAIN:\n",
      "              precision    recall  f1-score   support\n",
      "\n",
      "           0       1.00      0.06      0.11        99\n",
      "           1       0.74      1.00      0.85       261\n",
      "\n",
      "    accuracy                           0.74       360\n",
      "   macro avg       0.87      0.53      0.48       360\n",
      "weighted avg       0.81      0.74      0.65       360\n",
      "\n",
      "\n",
      "🔹 Evaluación en VALIDACIÓN:\n",
      "              precision    recall  f1-score   support\n",
      "\n",
      "           0       0.00      0.00      0.00        30\n",
      "           1       0.57      1.00      0.72        39\n",
      "\n",
      "    accuracy                           0.57        69\n",
      "   macro avg       0.28      0.50      0.36        69\n",
      "weighted avg       0.32      0.57      0.41        69\n",
      "\n"
     ]
    }
   ],
   "source": [
    "# ----------------- 1. Escalado ----------------- #\n",
    "scaler = StandardScaler()\n",
    "X_train_scaled = scaler.fit_transform(X_train)\n",
    "X_val_scaled = scaler.transform(X_val)\n",
    "\n",
    "\n",
    "# ----------------- 3. Preparar tensores ----------------- #\n",
    "X_train_tensor = torch.tensor(X_train_scaled, dtype=torch.float32)\n",
    "y_train_tensor = torch.tensor(y_train.reshape(-1, 1), dtype=torch.float32)\n",
    "\n",
    "X_val_tensor = torch.tensor(X_val_scaled, dtype=torch.float32)\n",
    "y_val_tensor = torch.tensor(y_val.reshape(-1, 1), dtype=torch.float32)\n",
    "\n",
    "# ----------------- 4. Definir Red Neuronal ----------------- #\n",
    "class SimpleNN(nn.Module):\n",
    "    def __init__(self, input_size, hidden_size=32):\n",
    "        super(SimpleNN, self).__init__()\n",
    "        self.fc1 = nn.Linear(input_size, hidden_size)\n",
    "        self.relu = nn.ReLU()\n",
    "        self.fc2 = nn.Linear(hidden_size, 1)\n",
    "    \n",
    "    def forward(self, x):\n",
    "        x = self.fc1(x)\n",
    "        x = self.relu(x)\n",
    "        x = self.fc2(x)\n",
    "        return x  # Sin activación final, usamos BCEWithLogitsLoss\n",
    "\n",
    "# Ojo aquí: input_size debe ser el número de columnas después del SelectKBest\n",
    "model = SimpleNN(input_size=X_train_scaled.shape[1], hidden_size=32)\n",
    "\n",
    "# ----------------- 5. Configuración ----------------- #\n",
    "criterion = nn.BCEWithLogitsLoss()\n",
    "optimizer = optim.Adam(model.parameters(), lr=0.001)\n",
    "\n",
    "# ----------------- 6. Entrenamiento ----------------- #\n",
    "epochs = 100\n",
    "for epoch in range(epochs):\n",
    "    model.train()\n",
    "    optimizer.zero_grad()\n",
    "    outputs = model(X_train_tensor)\n",
    "    loss = criterion(outputs, y_train_tensor)\n",
    "    loss.backward()\n",
    "    optimizer.step()\n",
    "\n",
    "# ----------------- 7. Evaluación ----------------- #\n",
    "model.eval()\n",
    "with torch.no_grad():\n",
    "    outputs_train = model(X_train_tensor)\n",
    "    probs_train = torch.sigmoid(outputs_train).numpy()\n",
    "    y_pred_train = (probs_train > 0.5).astype(int).flatten()\n",
    "\n",
    "    outputs_val = model(X_val_tensor)\n",
    "    probs_val = torch.sigmoid(outputs_val).numpy()\n",
    "    y_pred_val = (probs_val > 0.5).astype(int).flatten()\n",
    "\n",
    "print(\"🔹 Evaluación en TRAIN:\")\n",
    "print(classification_report(y_train, y_pred_train, zero_division=0.0))\n",
    "\n",
    "print(\"\\n🔹 Evaluación en VALIDACIÓN:\")\n",
    "print(classification_report(y_val, y_pred_val, zero_division=0.0))"
   ]
  },
  {
   "cell_type": "code",
   "execution_count": 97,
   "id": "1166f623",
   "metadata": {},
   "outputs": [
    {
     "data": {
      "image/png": "[encoded data removed]",
      "text/plain": [
       "<Figure size 4000x400 with 10 Axes>"
      ]
     },
     "metadata": {},
     "output_type": "display_data"
    }
   ],
   "source": [
    "import matplotlib.pyplot as plt\n",
    "\n",
    "num_features = 10  # Número de features que quieres visualizar (puedes cambiarlo)\n",
    "fig, axes = plt.subplots(1, num_features, figsize=(4 * num_features, 4))\n",
    "\n",
    "for i in range(num_features):\n",
    "    axes[i].hist(X_train[y_train == 0][:, i], alpha=0.5, label='Real (0)', color='blue')\n",
    "    axes[i].hist(X_train[y_train == 1][:, i], alpha=0.5, label='Fake (1)', color='orange')\n",
    "    axes[i].set_title(f'Feature {i}')\n",
    "    axes[i].legend()\n",
    "\n",
    "plt.tight_layout()\n",
    "plt.show()"
   ]
  }
 ],
 "metadata": {
  "kernelspec": {
   "display_name": "Python 3",
   "language": "python",
   "name": "python3"
  },
  "language_info": {
   "codemirror_mode": {
    "name": "ipython",
    "version": 3
   },
   "file_extension": ".py",
   "mimetype": "text/x-python",
   "name": "python",
   "nbconvert_exporter": "python",
   "pygments_lexer": "ipython3",
   "version": "3.13.3"
  }
 },
 "nbformat": 4,
 "nbformat_minor": 5
}
